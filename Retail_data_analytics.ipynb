{
 "cells": [
  {
   "cell_type": "code",
   "execution_count": 2,
   "id": "b7911afa-bdc2-44f7-8ab4-2f3241a4bbb0",
   "metadata": {},
   "outputs": [
    {
     "data": {
      "text/html": [
       "<div>\n",
       "<style scoped>\n",
       "    .dataframe tbody tr th:only-of-type {\n",
       "        vertical-align: middle;\n",
       "    }\n",
       "\n",
       "    .dataframe tbody tr th {\n",
       "        vertical-align: top;\n",
       "    }\n",
       "\n",
       "    .dataframe thead th {\n",
       "        text-align: right;\n",
       "    }\n",
       "</style>\n",
       "<table border=\"1\" class=\"dataframe\">\n",
       "  <thead>\n",
       "    <tr style=\"text-align: right;\">\n",
       "      <th></th>\n",
       "      <th>Dress_ID</th>\n",
       "      <th>Style</th>\n",
       "      <th>Price</th>\n",
       "      <th>Rating</th>\n",
       "      <th>Size</th>\n",
       "      <th>Season</th>\n",
       "      <th>NeckLine</th>\n",
       "      <th>SleeveLength</th>\n",
       "      <th>Material</th>\n",
       "      <th>FabricType</th>\n",
       "      <th>Decoration</th>\n",
       "      <th>Pattern Type</th>\n",
       "      <th>Recommendation</th>\n",
       "    </tr>\n",
       "  </thead>\n",
       "  <tbody>\n",
       "    <tr>\n",
       "      <th>0</th>\n",
       "      <td>1006032852</td>\n",
       "      <td>Sexy</td>\n",
       "      <td>Low</td>\n",
       "      <td>4.6</td>\n",
       "      <td>M</td>\n",
       "      <td>Summer</td>\n",
       "      <td>o-neck</td>\n",
       "      <td>sleevless</td>\n",
       "      <td>NaN</td>\n",
       "      <td>chiffon</td>\n",
       "      <td>ruffles</td>\n",
       "      <td>animal</td>\n",
       "      <td>1</td>\n",
       "    </tr>\n",
       "    <tr>\n",
       "      <th>1</th>\n",
       "      <td>1212192089</td>\n",
       "      <td>Casual</td>\n",
       "      <td>Low</td>\n",
       "      <td>0.0</td>\n",
       "      <td>L</td>\n",
       "      <td>Summer</td>\n",
       "      <td>o-neck</td>\n",
       "      <td>Petal</td>\n",
       "      <td>microfiber</td>\n",
       "      <td>NaN</td>\n",
       "      <td>ruffles</td>\n",
       "      <td>animal</td>\n",
       "      <td>0</td>\n",
       "    </tr>\n",
       "    <tr>\n",
       "      <th>2</th>\n",
       "      <td>1190380701</td>\n",
       "      <td>vintage</td>\n",
       "      <td>High</td>\n",
       "      <td>0.0</td>\n",
       "      <td>L</td>\n",
       "      <td>Automn</td>\n",
       "      <td>o-neck</td>\n",
       "      <td>full</td>\n",
       "      <td>polyster</td>\n",
       "      <td>NaN</td>\n",
       "      <td>NaN</td>\n",
       "      <td>print</td>\n",
       "      <td>0</td>\n",
       "    </tr>\n",
       "    <tr>\n",
       "      <th>3</th>\n",
       "      <td>966005983</td>\n",
       "      <td>Brief</td>\n",
       "      <td>Average</td>\n",
       "      <td>4.6</td>\n",
       "      <td>L</td>\n",
       "      <td>Spring</td>\n",
       "      <td>o-neck</td>\n",
       "      <td>full</td>\n",
       "      <td>silk</td>\n",
       "      <td>chiffon</td>\n",
       "      <td>embroidary</td>\n",
       "      <td>print</td>\n",
       "      <td>1</td>\n",
       "    </tr>\n",
       "    <tr>\n",
       "      <th>4</th>\n",
       "      <td>876339541</td>\n",
       "      <td>cute</td>\n",
       "      <td>Low</td>\n",
       "      <td>4.5</td>\n",
       "      <td>M</td>\n",
       "      <td>Summer</td>\n",
       "      <td>o-neck</td>\n",
       "      <td>butterfly</td>\n",
       "      <td>chiffonfabric</td>\n",
       "      <td>chiffon</td>\n",
       "      <td>bow</td>\n",
       "      <td>dot</td>\n",
       "      <td>0</td>\n",
       "    </tr>\n",
       "  </tbody>\n",
       "</table>\n",
       "</div>"
      ],
      "text/plain": [
       "     Dress_ID    Style    Price  Rating Size  Season NeckLine SleeveLength  \\\n",
       "0  1006032852     Sexy      Low     4.6    M  Summer   o-neck    sleevless   \n",
       "1  1212192089   Casual      Low     0.0    L  Summer   o-neck        Petal   \n",
       "2  1190380701  vintage     High     0.0    L  Automn   o-neck         full   \n",
       "3   966005983    Brief  Average     4.6    L  Spring   o-neck         full   \n",
       "4   876339541     cute      Low     4.5    M  Summer   o-neck    butterfly   \n",
       "\n",
       "        Material FabricType  Decoration Pattern Type  Recommendation  \n",
       "0            NaN    chiffon     ruffles       animal               1  \n",
       "1     microfiber        NaN     ruffles       animal               0  \n",
       "2       polyster        NaN         NaN        print               0  \n",
       "3           silk    chiffon  embroidary        print               1  \n",
       "4  chiffonfabric    chiffon         bow          dot               0  "
      ]
     },
     "execution_count": 2,
     "metadata": {},
     "output_type": "execute_result"
    }
   ],
   "source": [
    "import numpy as np\n",
    "import pandas as pd\n",
    "import matplotlib.pyplot as plt\n",
    "import seaborn as sns\n",
    "\n",
    "pd.set_option('display.max_rows', None)\n",
    "pd.set_option('display.max_columns', None)\n",
    "\n",
    "inp0=pd.read_csv(\"Attribute+DataSet.csv\")\n",
    "inp1=pd.read_csv(\"Dress+Sales.csv\")\n",
    "inp0.head()"
   ]
  },
  {
   "cell_type": "code",
   "execution_count": 3,
   "id": "d845c260-3a24-42a4-b233-1de475bd8ae8",
   "metadata": {},
   "outputs": [
    {
     "data": {
      "text/html": [
       "<div>\n",
       "<style scoped>\n",
       "    .dataframe tbody tr th:only-of-type {\n",
       "        vertical-align: middle;\n",
       "    }\n",
       "\n",
       "    .dataframe tbody tr th {\n",
       "        vertical-align: top;\n",
       "    }\n",
       "\n",
       "    .dataframe thead th {\n",
       "        text-align: right;\n",
       "    }\n",
       "</style>\n",
       "<table border=\"1\" class=\"dataframe\">\n",
       "  <thead>\n",
       "    <tr style=\"text-align: right;\">\n",
       "      <th></th>\n",
       "      <th>Dress_ID</th>\n",
       "      <th>29-08-2013</th>\n",
       "      <th>31-08-2013</th>\n",
       "      <th>09-02-2013</th>\n",
       "      <th>09-04-2013</th>\n",
       "      <th>09-06-2013</th>\n",
       "      <th>09-08-2013</th>\n",
       "      <th>09-10-2013</th>\n",
       "      <th>09-12-2013</th>\n",
       "      <th>14-09-2013</th>\n",
       "      <th>16-09-2013</th>\n",
       "      <th>18-09-2013</th>\n",
       "      <th>20-09-2013</th>\n",
       "      <th>22-09-2013</th>\n",
       "      <th>24-09-2013</th>\n",
       "      <th>26-09-2013</th>\n",
       "      <th>28-09-2013</th>\n",
       "      <th>30-09-2013</th>\n",
       "      <th>10-02-2013</th>\n",
       "      <th>10-04-2013</th>\n",
       "      <th>10-06-2013</th>\n",
       "      <th>10-08-2013</th>\n",
       "      <th>10-10-2013</th>\n",
       "      <th>10-12-2013</th>\n",
       "    </tr>\n",
       "  </thead>\n",
       "  <tbody>\n",
       "    <tr>\n",
       "      <th>0</th>\n",
       "      <td>1.006033e+09</td>\n",
       "      <td>2114</td>\n",
       "      <td>2274</td>\n",
       "      <td>2491</td>\n",
       "      <td>2660</td>\n",
       "      <td>2727</td>\n",
       "      <td>2887</td>\n",
       "      <td>2930</td>\n",
       "      <td>3119</td>\n",
       "      <td>3204</td>\n",
       "      <td>3277</td>\n",
       "      <td>3321</td>\n",
       "      <td>3386</td>\n",
       "      <td>3479</td>\n",
       "      <td>3554</td>\n",
       "      <td>3624.0</td>\n",
       "      <td>3706</td>\n",
       "      <td>3746.0</td>\n",
       "      <td>3795.0</td>\n",
       "      <td>3832.0</td>\n",
       "      <td>3897</td>\n",
       "      <td>3923.0</td>\n",
       "      <td>3985.0</td>\n",
       "      <td>4048</td>\n",
       "    </tr>\n",
       "    <tr>\n",
       "      <th>1</th>\n",
       "      <td>1.212192e+09</td>\n",
       "      <td>151</td>\n",
       "      <td>275</td>\n",
       "      <td>570</td>\n",
       "      <td>750</td>\n",
       "      <td>813</td>\n",
       "      <td>1066</td>\n",
       "      <td>1164</td>\n",
       "      <td>1558</td>\n",
       "      <td>1756</td>\n",
       "      <td>1878</td>\n",
       "      <td>1985</td>\n",
       "      <td>2106</td>\n",
       "      <td>2454</td>\n",
       "      <td>2710</td>\n",
       "      <td>2942.0</td>\n",
       "      <td>3258</td>\n",
       "      <td>3354.0</td>\n",
       "      <td>3475.0</td>\n",
       "      <td>3654.0</td>\n",
       "      <td>3911</td>\n",
       "      <td>4024.0</td>\n",
       "      <td>4125.0</td>\n",
       "      <td>4277</td>\n",
       "    </tr>\n",
       "    <tr>\n",
       "      <th>2</th>\n",
       "      <td>1.190381e+09</td>\n",
       "      <td>6</td>\n",
       "      <td>7</td>\n",
       "      <td>7</td>\n",
       "      <td>7</td>\n",
       "      <td>8</td>\n",
       "      <td>8</td>\n",
       "      <td>9</td>\n",
       "      <td>10</td>\n",
       "      <td>10</td>\n",
       "      <td>10</td>\n",
       "      <td>10</td>\n",
       "      <td>10</td>\n",
       "      <td>11</td>\n",
       "      <td>11</td>\n",
       "      <td>11.0</td>\n",
       "      <td>11</td>\n",
       "      <td>11.0</td>\n",
       "      <td>11.0</td>\n",
       "      <td>11.0</td>\n",
       "      <td>11</td>\n",
       "      <td>11.0</td>\n",
       "      <td>11.0</td>\n",
       "      <td>11</td>\n",
       "    </tr>\n",
       "    <tr>\n",
       "      <th>3</th>\n",
       "      <td>9.660060e+08</td>\n",
       "      <td>1005</td>\n",
       "      <td>1128</td>\n",
       "      <td>1326</td>\n",
       "      <td>1455</td>\n",
       "      <td>1507</td>\n",
       "      <td>1621</td>\n",
       "      <td>1637</td>\n",
       "      <td>1723</td>\n",
       "      <td>1746</td>\n",
       "      <td>1783</td>\n",
       "      <td>1796</td>\n",
       "      <td>1812</td>\n",
       "      <td>1845</td>\n",
       "      <td>1878</td>\n",
       "      <td>1892.0</td>\n",
       "      <td>1914</td>\n",
       "      <td>1924.0</td>\n",
       "      <td>1929.0</td>\n",
       "      <td>1941.0</td>\n",
       "      <td>1952</td>\n",
       "      <td>1955.0</td>\n",
       "      <td>1959.0</td>\n",
       "      <td>1963</td>\n",
       "    </tr>\n",
       "    <tr>\n",
       "      <th>4</th>\n",
       "      <td>8.763395e+08</td>\n",
       "      <td>996</td>\n",
       "      <td>1175</td>\n",
       "      <td>1304</td>\n",
       "      <td>1396</td>\n",
       "      <td>1432</td>\n",
       "      <td>1559</td>\n",
       "      <td>1570</td>\n",
       "      <td>1638</td>\n",
       "      <td>1655</td>\n",
       "      <td>1681</td>\n",
       "      <td>1743</td>\n",
       "      <td>1824</td>\n",
       "      <td>1919</td>\n",
       "      <td>2032</td>\n",
       "      <td>2156.0</td>\n",
       "      <td>2252</td>\n",
       "      <td>2312.0</td>\n",
       "      <td>2387.0</td>\n",
       "      <td>2459.0</td>\n",
       "      <td>2544</td>\n",
       "      <td>2614.0</td>\n",
       "      <td>2693.0</td>\n",
       "      <td>2736</td>\n",
       "    </tr>\n",
       "  </tbody>\n",
       "</table>\n",
       "</div>"
      ],
      "text/plain": [
       "       Dress_ID  29-08-2013  31-08-2013  09-02-2013  09-04-2013  09-06-2013  \\\n",
       "0  1.006033e+09        2114        2274        2491        2660        2727   \n",
       "1  1.212192e+09         151         275         570         750         813   \n",
       "2  1.190381e+09           6           7           7           7           8   \n",
       "3  9.660060e+08        1005        1128        1326        1455        1507   \n",
       "4  8.763395e+08         996        1175        1304        1396        1432   \n",
       "\n",
       "   09-08-2013  09-10-2013 09-12-2013 14-09-2013 16-09-2013 18-09-2013  \\\n",
       "0        2887        2930       3119       3204       3277       3321   \n",
       "1        1066        1164       1558       1756       1878       1985   \n",
       "2           8           9         10         10         10         10   \n",
       "3        1621        1637       1723       1746       1783       1796   \n",
       "4        1559        1570       1638       1655       1681       1743   \n",
       "\n",
       "  20-09-2013 22-09-2013  24-09-2013  26-09-2013  28-09-2013  30-09-2013  \\\n",
       "0       3386       3479        3554      3624.0        3706      3746.0   \n",
       "1       2106       2454        2710      2942.0        3258      3354.0   \n",
       "2         10         11          11        11.0          11        11.0   \n",
       "3       1812       1845        1878      1892.0        1914      1924.0   \n",
       "4       1824       1919        2032      2156.0        2252      2312.0   \n",
       "\n",
       "   10-02-2013  10-04-2013  10-06-2013  10-08-2013  10-10-2013  10-12-2013  \n",
       "0      3795.0      3832.0        3897      3923.0      3985.0        4048  \n",
       "1      3475.0      3654.0        3911      4024.0      4125.0        4277  \n",
       "2        11.0        11.0          11        11.0        11.0          11  \n",
       "3      1929.0      1941.0        1952      1955.0      1959.0        1963  \n",
       "4      2387.0      2459.0        2544      2614.0      2693.0        2736  "
      ]
     },
     "execution_count": 3,
     "metadata": {},
     "output_type": "execute_result"
    }
   ],
   "source": [
    "inp1.head()"
   ]
  },
  {
   "cell_type": "code",
   "execution_count": 4,
   "id": "7bfa2951-7278-4d90-88f3-516b2f0e13e8",
   "metadata": {},
   "outputs": [
    {
     "name": "stdout",
     "output_type": "stream",
     "text": [
      "<class 'pandas.core.frame.DataFrame'>\n",
      "RangeIndex: 479 entries, 0 to 478\n",
      "Data columns (total 13 columns):\n",
      " #   Column          Non-Null Count  Dtype  \n",
      "---  ------          --------------  -----  \n",
      " 0   Dress_ID        479 non-null    int64  \n",
      " 1   Style           479 non-null    object \n",
      " 2   Price           477 non-null    object \n",
      " 3   Rating          479 non-null    float64\n",
      " 4   Size            479 non-null    object \n",
      " 5   Season          477 non-null    object \n",
      " 6   NeckLine        476 non-null    object \n",
      " 7   SleeveLength    477 non-null    object \n",
      " 8   Material        360 non-null    object \n",
      " 9   FabricType      223 non-null    object \n",
      " 10  Decoration      255 non-null    object \n",
      " 11  Pattern Type    377 non-null    object \n",
      " 12  Recommendation  479 non-null    int64  \n",
      "dtypes: float64(1), int64(2), object(10)\n",
      "memory usage: 48.8+ KB\n"
     ]
    }
   ],
   "source": [
    "inp0.info()"
   ]
  },
  {
   "cell_type": "code",
   "execution_count": 5,
   "id": "701181f9-73f9-4303-acf0-109489a477a2",
   "metadata": {},
   "outputs": [
    {
     "name": "stdout",
     "output_type": "stream",
     "text": [
      "<class 'pandas.core.frame.DataFrame'>\n",
      "RangeIndex: 479 entries, 0 to 478\n",
      "Data columns (total 24 columns):\n",
      " #   Column      Non-Null Count  Dtype  \n",
      "---  ------      --------------  -----  \n",
      " 0   Dress_ID    479 non-null    float64\n",
      " 1   29-08-2013  479 non-null    int64  \n",
      " 2   31-08-2013  479 non-null    int64  \n",
      " 3   09-02-2013  479 non-null    int64  \n",
      " 4   09-04-2013  479 non-null    int64  \n",
      " 5   09-06-2013  479 non-null    int64  \n",
      " 6   09-08-2013  479 non-null    int64  \n",
      " 7   09-10-2013  479 non-null    int64  \n",
      " 8   09-12-2013  479 non-null    object \n",
      " 9   14-09-2013  479 non-null    object \n",
      " 10  16-09-2013  479 non-null    object \n",
      " 11  18-09-2013  479 non-null    object \n",
      " 12  20-09-2013  479 non-null    object \n",
      " 13  22-09-2013  479 non-null    object \n",
      " 14  24-09-2013  479 non-null    int64  \n",
      " 15  26-09-2013  257 non-null    float64\n",
      " 16  28-09-2013  479 non-null    int64  \n",
      " 17  30-09-2013  222 non-null    float64\n",
      " 18  10-02-2013  220 non-null    float64\n",
      " 19  10-04-2013  221 non-null    float64\n",
      " 20  10-06-2013  479 non-null    int64  \n",
      " 21  10-08-2013  224 non-null    float64\n",
      " 22  10-10-2013  224 non-null    float64\n",
      " 23  10-12-2013  479 non-null    int64  \n",
      "dtypes: float64(7), int64(11), object(6)\n",
      "memory usage: 89.9+ KB\n"
     ]
    }
   ],
   "source": [
    "inp1.info()"
   ]
  },
  {
   "cell_type": "code",
   "execution_count": 6,
   "id": "2f57c535-f672-47ff-b5e9-a5feef9f1adf",
   "metadata": {},
   "outputs": [
    {
     "data": {
      "text/plain": [
       "Price\n",
       "Average      240\n",
       "Low          165\n",
       "Medium        30\n",
       "High          21\n",
       "very-high     21\n",
       "Name: count, dtype: int64"
      ]
     },
     "execution_count": 6,
     "metadata": {},
     "output_type": "execute_result"
    }
   ],
   "source": [
    "inp0.Price.value_counts()\n",
    "#Object type and categorical ordinal variable: This seems to be the most suitable description. The \"Price\" column is likely of object type since it contains strings (e.g., \"High\", \"Low\", etc.), and it represents a categorical variable with an inherent order or hierarchy. The categories have a natural ordering, such as \"Low\" < \"Medium\" < \"High\" < \"Very High\"."
   ]
  },
  {
   "cell_type": "code",
   "execution_count": 7,
   "id": "c9b0052f-a53e-4d3a-83b1-1a3fb0b0719a",
   "metadata": {},
   "outputs": [
    {
     "data": {
      "text/plain": [
       "Recommendation\n",
       "0    274\n",
       "1    205\n",
       "Name: count, dtype: int64"
      ]
     },
     "execution_count": 7,
     "metadata": {},
     "output_type": "execute_result"
    }
   ],
   "source": [
    "inp0.Recommendation.value_counts()\n",
    "#Integer type and categorical: The \"Recommendation\" column contains numerical values 0 and 1. While these are integers, they represent categories rather than continuous numerical values. In this case, 0 and 1 likely represent categories such as \"No recommendation\" and \"Recommendation\", respectively.\n",
    "#So, the most suitable description for the \"Recommendation\" column would be \"Integer type and categorical\"."
   ]
  },
  {
   "cell_type": "code",
   "execution_count": 8,
   "id": "133e2c1b-bd39-4456-a8e6-77f00849e02f",
   "metadata": {},
   "outputs": [
    {
     "data": {
      "text/plain": [
       "Style\n",
       "Casual      219\n",
       "Sexy         66\n",
       "party        51\n",
       "cute         44\n",
       "vintage      25\n",
       "bohemian     23\n",
       "Brief        17\n",
       "work         17\n",
       "sexy          7\n",
       "Novelty       6\n",
       "Flare         2\n",
       "OL            1\n",
       "fashion       1\n",
       "Name: count, dtype: int64"
      ]
     },
     "execution_count": 8,
     "metadata": {},
     "output_type": "execute_result"
    }
   ],
   "source": [
    "inp0.Style.value_counts()"
   ]
  },
  {
   "cell_type": "code",
   "execution_count": 9,
   "id": "b5375045-3430-4155-a0e6-513ee652deb5",
   "metadata": {},
   "outputs": [],
   "source": [
    "inp0.Style.replace({'sexy':\"Sexy\"},inplace=True)"
   ]
  },
  {
   "cell_type": "code",
   "execution_count": 10,
   "id": "aca9e729-550e-475a-a5de-8cdf497f0800",
   "metadata": {},
   "outputs": [
    {
     "data": {
      "text/plain": [
       "Style\n",
       "Casual      219\n",
       "Sexy         73\n",
       "party        51\n",
       "cute         44\n",
       "vintage      25\n",
       "bohemian     23\n",
       "Brief        17\n",
       "work         17\n",
       "Novelty       6\n",
       "Flare         2\n",
       "OL            1\n",
       "fashion       1\n",
       "Name: count, dtype: int64"
      ]
     },
     "execution_count": 10,
     "metadata": {},
     "output_type": "execute_result"
    }
   ],
   "source": [
    "inp0.Style.value_counts()"
   ]
  },
  {
   "cell_type": "code",
   "execution_count": 11,
   "id": "2bda069f-880c-4fd2-9586-6dc732c29922",
   "metadata": {},
   "outputs": [
    {
     "data": {
      "text/plain": [
       "NeckLine\n",
       "o-neck             257\n",
       "v-neck             119\n",
       "slash-neck          25\n",
       "boat-neck           18\n",
       "Sweetheart          14\n",
       "turndowncollor      13\n",
       "bowneck             10\n",
       "peterpan-collor      5\n",
       "sqare-collor         5\n",
       "open                 3\n",
       "Scoop                2\n",
       "ruffled              1\n",
       "mandarin-collor      1\n",
       "sweetheart           1\n",
       "halter               1\n",
       "backless             1\n",
       "Name: count, dtype: int64"
      ]
     },
     "execution_count": 11,
     "metadata": {},
     "output_type": "execute_result"
    }
   ],
   "source": [
    "inp0.NeckLine.value_counts()"
   ]
  },
  {
   "cell_type": "code",
   "execution_count": 12,
   "id": "cfcbeb8e-5369-4f9f-9b8a-11e38d0d2a85",
   "metadata": {},
   "outputs": [
    {
     "data": {
      "text/plain": [
       "NeckLine\n",
       "o-neck             257\n",
       "v-neck             119\n",
       "slash-neck          25\n",
       "boat-neck           18\n",
       "Sweetheart          15\n",
       "turndowncollor      13\n",
       "bowneck             10\n",
       "peterpan-collor      5\n",
       "sqare-collor         5\n",
       "open                 3\n",
       "Scoop                2\n",
       "ruffled              1\n",
       "mandarin-collor      1\n",
       "halter               1\n",
       "backless             1\n",
       "Name: count, dtype: int64"
      ]
     },
     "execution_count": 12,
     "metadata": {},
     "output_type": "execute_result"
    }
   ],
   "source": [
    "inp0.NeckLine.replace({'sweetheart':\"Sweetheart\"},inplace=True)\n",
    "inp0.NeckLine.value_counts()"
   ]
  },
  {
   "cell_type": "code",
   "execution_count": 13,
   "id": "dc061523-e6aa-4c5a-8a72-72532c98166d",
   "metadata": {},
   "outputs": [
    {
     "data": {
      "text/plain": [
       "SleeveLength\n",
       "sleevless         216\n",
       "full               94\n",
       "short              92\n",
       "halfsleeve         32\n",
       "threequarter       17\n",
       "thressqatar         8\n",
       "sleeveless          4\n",
       "capsleeves          3\n",
       "sleeevless          2\n",
       "cap-sleeves         2\n",
       "urndowncollor       1\n",
       "half                1\n",
       "turndowncollor      1\n",
       "threequater         1\n",
       "Petal               1\n",
       "butterfly           1\n",
       "sleveless           1\n",
       "Name: count, dtype: int64"
      ]
     },
     "execution_count": 13,
     "metadata": {},
     "output_type": "execute_result"
    }
   ],
   "source": [
    "inp0.SleeveLength.value_counts()"
   ]
  },
  {
   "cell_type": "code",
   "execution_count": 14,
   "id": "17a82fee-2dd6-4730-a5bb-62331b44e699",
   "metadata": {},
   "outputs": [
    {
     "data": {
      "text/plain": [
       "Pattern Type\n",
       "solid        199\n",
       "print         67\n",
       "patchwork     47\n",
       "animal        19\n",
       "striped       15\n",
       "dot           13\n",
       "geometric      5\n",
       "plaid          3\n",
       "leopard        3\n",
       "floral         2\n",
       "character      1\n",
       "splice         1\n",
       "leapord        1\n",
       "none           1\n",
       "Name: count, dtype: int64"
      ]
     },
     "execution_count": 14,
     "metadata": {},
     "output_type": "execute_result"
    }
   ],
   "source": [
    "inp0['Pattern Type'].value_counts()"
   ]
  },
  {
   "cell_type": "code",
   "execution_count": 15,
   "id": "216b01fd-1ea2-4bbb-b310-088c9a0e0fda",
   "metadata": {},
   "outputs": [
    {
     "data": {
      "text/plain": [
       "Pattern Type\n",
       "solid        199\n",
       "print         67\n",
       "patchwork     47\n",
       "animal        19\n",
       "striped       15\n",
       "dot           13\n",
       "geometric      5\n",
       "leopard        4\n",
       "plaid          3\n",
       "floral         2\n",
       "character      1\n",
       "splice         1\n",
       "none           1\n",
       "Name: count, dtype: int64"
      ]
     },
     "execution_count": 15,
     "metadata": {},
     "output_type": "execute_result"
    }
   ],
   "source": [
    "inp0['Pattern Type'].replace({'leapord':\"leopard\"},inplace=True)\n",
    "inp0['Pattern Type'].value_counts()"
   ]
  },
  {
   "cell_type": "code",
   "execution_count": 16,
   "id": "6a7f0546-3bb9-45bc-9b04-04c1d3c20aad",
   "metadata": {},
   "outputs": [
    {
     "data": {
      "text/plain": [
       "FabricType\n",
       "chiffon       129\n",
       "broadcloth     29\n",
       "worsted        18\n",
       "jersey         12\n",
       "shiffon         8\n",
       "sattin          6\n",
       "batik           2\n",
       "wollen          2\n",
       "Corduroy        2\n",
       "poplin          2\n",
       "tulle           2\n",
       "knitted         1\n",
       "lace            1\n",
       "organza         1\n",
       "knitting        1\n",
       "flannel         1\n",
       "dobby           1\n",
       "woolen          1\n",
       "flannael        1\n",
       "satin           1\n",
       "other           1\n",
       "terry           1\n",
       "Name: count, dtype: int64"
      ]
     },
     "execution_count": 16,
     "metadata": {},
     "output_type": "execute_result"
    }
   ],
   "source": [
    "inp0.FabricType.value_counts()"
   ]
  },
  {
   "cell_type": "code",
   "execution_count": 17,
   "id": "d2ea7bf1-4d7b-4fe8-83a0-ff7bf750e259",
   "metadata": {},
   "outputs": [
    {
     "data": {
      "text/plain": [
       "Material\n",
       "cotton           148\n",
       "polyster          93\n",
       "silk              26\n",
       "chiffonfabric     24\n",
       "mix               12\n",
       "nylon             10\n",
       "rayon             10\n",
       "milksilk           5\n",
       "spandex            5\n",
       "cashmere           4\n",
       "acrylic            3\n",
       "microfiber         3\n",
       "lycra              3\n",
       "linen              3\n",
       "other              2\n",
       "viscos             2\n",
       "shiffon            2\n",
       "lace               1\n",
       "modal              1\n",
       "sill               1\n",
       "wool               1\n",
       "model              1\n",
       "Name: count, dtype: int64"
      ]
     },
     "execution_count": 17,
     "metadata": {},
     "output_type": "execute_result"
    }
   ],
   "source": [
    "inp0.Material.value_counts()"
   ]
  },
  {
   "cell_type": "code",
   "execution_count": 18,
   "id": "0ecf9e65-6dc8-4353-b895-712bcebf5fe7",
   "metadata": {},
   "outputs": [
    {
     "data": {
      "text/plain": [
       "Decoration\n",
       "lace          67\n",
       "sashes        41\n",
       "beading       22\n",
       "hollowout     21\n",
       "applique      20\n",
       "ruffles       17\n",
       "bow           14\n",
       "sequined      13\n",
       "pockets        5\n",
       "button         5\n",
       "embroidary     5\n",
       "flowers        4\n",
       "ruched         3\n",
       "crystal        3\n",
       "rivet          3\n",
       "feathers       2\n",
       "draped         2\n",
       "plain          2\n",
       "pearls         1\n",
       "pleat          1\n",
       "Tiered         1\n",
       "tassel         1\n",
       "cascading      1\n",
       "none           1\n",
       "Name: count, dtype: int64"
      ]
     },
     "execution_count": 18,
     "metadata": {},
     "output_type": "execute_result"
    }
   ],
   "source": [
    "inp0.Decoration.value_counts()"
   ]
  },
  {
   "cell_type": "code",
   "execution_count": 19,
   "id": "e013eb51-3fb1-4e5c-b7bd-3c4186b8d8f8",
   "metadata": {},
   "outputs": [
    {
     "data": {
      "text/plain": [
       "Size\n",
       "Medium         171\n",
       "Free           165\n",
       "Large           93\n",
       "Small           36\n",
       "Extra Large     14\n",
       "Name: count, dtype: int64"
      ]
     },
     "execution_count": 19,
     "metadata": {},
     "output_type": "execute_result"
    }
   ],
   "source": [
    "inp0.Size.replace({'M':\"Medium\",'L':\"Large\",'XL':\"Extra Large\",'free':\"Free\",'s':\"Small\",'S':\"Small\",'small':\"Small\"},inplace=True)\n",
    "inp0.Size.value_counts()"
   ]
  },
  {
   "cell_type": "code",
   "execution_count": 20,
   "id": "a38a07c1-6b78-4048-b194-3e3866887ed6",
   "metadata": {},
   "outputs": [
    {
     "name": "stdout",
     "output_type": "stream",
     "text": [
      "Size\n",
      "Medium         35.699374\n",
      "Free           34.446764\n",
      "Large          19.415449\n",
      "Small           7.515658\n",
      "Extra Large     2.922756\n",
      "Name: count, dtype: float64\n"
     ]
    }
   ],
   "source": [
    "size_counts = inp0['Size'].value_counts()\n",
    "total_non_null = size_counts.sum()\n",
    "# Calculate percentage for each unique value\n",
    "size_percentage = (size_counts / total_non_null) * 100\n",
    "print(size_percentage)"
   ]
  },
  {
   "cell_type": "code",
   "execution_count": 21,
   "id": "774b7047-2ac8-4d49-ad1f-f143f299b31e",
   "metadata": {},
   "outputs": [],
   "source": [
    "# Lowest % is Extra Large and Highest % is Medium "
   ]
  },
  {
   "cell_type": "code",
   "execution_count": 22,
   "id": "d3efca5d-6405-445c-b5af-8ef4b66b35b3",
   "metadata": {},
   "outputs": [
    {
     "data": {
      "text/plain": [
       "Season\n",
       "Summer    154\n",
       "Spring    116\n",
       "Winter     94\n",
       "Automn     59\n",
       "winter     45\n",
       "Autumn      7\n",
       "spring      2\n",
       "Name: count, dtype: int64"
      ]
     },
     "execution_count": 22,
     "metadata": {},
     "output_type": "execute_result"
    }
   ],
   "source": [
    "inp0.Season.value_counts()"
   ]
  },
  {
   "cell_type": "code",
   "execution_count": 23,
   "id": "d2732e96-1eb5-49fd-a9d0-f70b800f7ed2",
   "metadata": {},
   "outputs": [
    {
     "data": {
      "text/plain": [
       "Rating\n",
       "0.0    119\n",
       "4.7     78\n",
       "4.8     55\n",
       "5.0     54\n",
       "4.6     53\n",
       "4.5     31\n",
       "4.4     26\n",
       "4.9     22\n",
       "4.3     17\n",
       "4.0      7\n",
       "4.2      6\n",
       "4.1      5\n",
       "3.7      2\n",
       "3.6      1\n",
       "3.5      1\n",
       "1.0      1\n",
       "3.0      1\n",
       "Name: count, dtype: int64"
      ]
     },
     "execution_count": 23,
     "metadata": {},
     "output_type": "execute_result"
    }
   ],
   "source": [
    "inp0.Rating.value_counts()"
   ]
  },
  {
   "cell_type": "code",
   "execution_count": 24,
   "id": "a7bed848-691c-4c3d-bb99-878ea9c44042",
   "metadata": {},
   "outputs": [
    {
     "data": {
      "text/plain": [
       "Dress_ID            0\n",
       "Style               0\n",
       "Price               2\n",
       "Rating              0\n",
       "Size                0\n",
       "Season              2\n",
       "NeckLine            3\n",
       "SleeveLength        2\n",
       "Material          119\n",
       "FabricType        256\n",
       "Decoration        224\n",
       "Pattern Type      102\n",
       "Recommendation      0\n",
       "dtype: int64"
      ]
     },
     "execution_count": 24,
     "metadata": {},
     "output_type": "execute_result"
    }
   ],
   "source": [
    "inp0.isnull().sum()"
   ]
  },
  {
   "cell_type": "code",
   "execution_count": 25,
   "id": "6cc28027-d677-4663-a9b6-7adb55b84bef",
   "metadata": {
    "scrolled": true
   },
   "outputs": [
    {
     "data": {
      "text/plain": [
       "Dress_ID        0\n",
       "29-08-2013      0\n",
       "31-08-2013      0\n",
       "09-02-2013      0\n",
       "09-04-2013      0\n",
       "09-06-2013      0\n",
       "09-08-2013      0\n",
       "09-10-2013      0\n",
       "09-12-2013      0\n",
       "14-09-2013      0\n",
       "16-09-2013      0\n",
       "18-09-2013      0\n",
       "20-09-2013      0\n",
       "22-09-2013      0\n",
       "24-09-2013      0\n",
       "26-09-2013    222\n",
       "28-09-2013      0\n",
       "30-09-2013    257\n",
       "10-02-2013    259\n",
       "10-04-2013    258\n",
       "10-06-2013      0\n",
       "10-08-2013    255\n",
       "10-10-2013    255\n",
       "10-12-2013      0\n",
       "dtype: int64"
      ]
     },
     "execution_count": 25,
     "metadata": {},
     "output_type": "execute_result"
    }
   ],
   "source": [
    "inp1.isnull().sum()"
   ]
  },
  {
   "cell_type": "code",
   "execution_count": 26,
   "id": "8709c1ff-754e-4763-b76f-947ba11d4758",
   "metadata": {
    "scrolled": true
   },
   "outputs": [
    {
     "data": {
      "text/plain": [
       "10-02-2013    54.070981\n",
       "10-04-2013    53.862213\n",
       "30-09-2013    53.653445\n",
       "10-10-2013    53.235908\n",
       "10-08-2013    53.235908\n",
       "26-09-2013    46.346555\n",
       "Dress_ID       0.000000\n",
       "29-08-2013     0.000000\n",
       "10-06-2013     0.000000\n",
       "28-09-2013     0.000000\n",
       "24-09-2013     0.000000\n",
       "22-09-2013     0.000000\n",
       "20-09-2013     0.000000\n",
       "18-09-2013     0.000000\n",
       "16-09-2013     0.000000\n",
       "14-09-2013     0.000000\n",
       "09-12-2013     0.000000\n",
       "09-10-2013     0.000000\n",
       "09-08-2013     0.000000\n",
       "09-06-2013     0.000000\n",
       "09-04-2013     0.000000\n",
       "09-02-2013     0.000000\n",
       "31-08-2013     0.000000\n",
       "10-12-2013     0.000000\n",
       "dtype: float64"
      ]
     },
     "execution_count": 26,
     "metadata": {},
     "output_type": "execute_result"
    }
   ],
   "source": [
    "(inp1.isnull().sum()/len(inp1)*100).sort_values(ascending=False)"
   ]
  },
  {
   "cell_type": "code",
   "execution_count": null,
   "id": "3a29c31b-6cfc-4c8b-86ed-5bc993b00e91",
   "metadata": {},
   "outputs": [],
   "source": []
  },
  {
   "cell_type": "code",
   "execution_count": 27,
   "id": "74662150-3d81-4464-a5fd-ba21c70ac925",
   "metadata": {},
   "outputs": [
    {
     "data": {
      "text/plain": [
       "09-12-2013\n",
       "1          9\n",
       "2          9\n",
       "3          8\n",
       "25         6\n",
       "5          6\n",
       "42         5\n",
       "73         5\n",
       "119        5\n",
       "4          5\n",
       "66         4\n",
       "18         4\n",
       "22         4\n",
       "17         4\n",
       "16         4\n",
       "8          4\n",
       "26         4\n",
       "15         3\n",
       "67         3\n",
       "209        3\n",
       "14         3\n",
       "114        3\n",
       "56         3\n",
       "46         3\n",
       "191        3\n",
       "83         3\n",
       "30         3\n",
       "218        3\n",
       "21         3\n",
       "289        3\n",
       "81         3\n",
       "188        3\n",
       "43         3\n",
       "72         3\n",
       "45         3\n",
       "7          3\n",
       "61         3\n",
       "10         3\n",
       "578        2\n",
       "100        2\n",
       "69         2\n",
       "147        2\n",
       "204        2\n",
       "6          2\n",
       "1271       2\n",
       "158        2\n",
       "91         2\n",
       "176        2\n",
       "39         2\n",
       "84         2\n",
       "393        2\n",
       "55         2\n",
       "232        2\n",
       "325        2\n",
       "41         2\n",
       "134        2\n",
       "148        2\n",
       "89         2\n",
       "164        2\n",
       "0          2\n",
       "302        2\n",
       "375        2\n",
       "226        2\n",
       "28         2\n",
       "205        2\n",
       "670        2\n",
       "219        2\n",
       "37         2\n",
       "51         2\n",
       "178        2\n",
       "283        2\n",
       "19         2\n",
       "105        2\n",
       "74         2\n",
       "557        2\n",
       "35         2\n",
       "227        2\n",
       "85         2\n",
       "144        2\n",
       "171        2\n",
       "13         2\n",
       "60         2\n",
       "339        2\n",
       "24         2\n",
       "146        2\n",
       "103        2\n",
       "281        2\n",
       "98         2\n",
       "224        2\n",
       "240        2\n",
       "112        2\n",
       "59         2\n",
       "70         2\n",
       "343        2\n",
       "118        1\n",
       "87         1\n",
       "273        1\n",
       "189        1\n",
       "362        1\n",
       "387        1\n",
       "865        1\n",
       "836        1\n",
       "31         1\n",
       "129        1\n",
       "126        1\n",
       "52         1\n",
       "482        1\n",
       "298        1\n",
       "96         1\n",
       "222        1\n",
       "Removed    1\n",
       "54         1\n",
       "145        1\n",
       "215        1\n",
       "101        1\n",
       "57         1\n",
       "320        1\n",
       "210        1\n",
       "270        1\n",
       "288        1\n",
       "357        1\n",
       "1472       1\n",
       "396        1\n",
       "3119       1\n",
       "82         1\n",
       "163        1\n",
       "97         1\n",
       "384        1\n",
       "213        1\n",
       "155        1\n",
       "234        1\n",
       "27         1\n",
       "33         1\n",
       "131        1\n",
       "361        1\n",
       "321        1\n",
       "250        1\n",
       "92         1\n",
       "683        1\n",
       "86         1\n",
       "143        1\n",
       "29         1\n",
       "417        1\n",
       "23         1\n",
       "322        1\n",
       "149        1\n",
       "245        1\n",
       "139        1\n",
       "629        1\n",
       "187        1\n",
       "290        1\n",
       "645        1\n",
       "473        1\n",
       "239        1\n",
       "525        1\n",
       "694        1\n",
       "11         1\n",
       "243        1\n",
       "678        1\n",
       "385        1\n",
       "160        1\n",
       "62         1\n",
       "123        1\n",
       "296        1\n",
       "53         1\n",
       "786        1\n",
       "75         1\n",
       "58         1\n",
       "823        1\n",
       "606        1\n",
       "9          1\n",
       "822        1\n",
       "253        1\n",
       "354        1\n",
       "1111       1\n",
       "269        1\n",
       "562        1\n",
       "583        1\n",
       "324        1\n",
       "170        1\n",
       "199        1\n",
       "794        1\n",
       "121        1\n",
       "93         1\n",
       "195        1\n",
       "44         1\n",
       "669        1\n",
       "420        1\n",
       "133        1\n",
       "50         1\n",
       "850        1\n",
       "758        1\n",
       "348        1\n",
       "5475       1\n",
       "1210       1\n",
       "1474       1\n",
       "921        1\n",
       "328        1\n",
       "567        1\n",
       "585        1\n",
       "359        1\n",
       "68         1\n",
       "2025       1\n",
       "293        1\n",
       "415        1\n",
       "369        1\n",
       "40         1\n",
       "826        1\n",
       "2366       1\n",
       "137        1\n",
       "1412       1\n",
       "382        1\n",
       "401        1\n",
       "308        1\n",
       "722        1\n",
       "174        1\n",
       "808        1\n",
       "407        1\n",
       "237        1\n",
       "649        1\n",
       "878        1\n",
       "640        1\n",
       "2930       1\n",
       "1248       1\n",
       "1723       1\n",
       "1638       1\n",
       "251        1\n",
       "117        1\n",
       "65         1\n",
       "90         1\n",
       "1906       1\n",
       "2934       1\n",
       "49         1\n",
       "1898       1\n",
       "12         1\n",
       "381        1\n",
       "233        1\n",
       "156        1\n",
       "1671       1\n",
       "1762       1\n",
       "497        1\n",
       "7156       1\n",
       "1456       1\n",
       "279        1\n",
       "1004       1\n",
       "1244       1\n",
       "2321       1\n",
       "1706       1\n",
       "1744       1\n",
       "569        1\n",
       "1311       1\n",
       "1966       1\n",
       "500        1\n",
       "531        1\n",
       "386        1\n",
       "365        1\n",
       "664        1\n",
       "576        1\n",
       "356        1\n",
       "957        1\n",
       "115        1\n",
       "1558       1\n",
       "559        1\n",
       "767        1\n",
       "461        1\n",
       "1842       1\n",
       "202        1\n",
       "122        1\n",
       "350        1\n",
       "742        1\n",
       "140        1\n",
       "124        1\n",
       "448        1\n",
       "36         1\n",
       "1115       1\n",
       "314        1\n",
       "259        1\n",
       "449        1\n",
       "168        1\n",
       "377        1\n",
       "334        1\n",
       "472        1\n",
       "488        1\n",
       "201        1\n",
       "217        1\n",
       "3544       1\n",
       "1335       1\n",
       "414        1\n",
       "452        1\n",
       "221        1\n",
       "450        1\n",
       "1029       1\n",
       "1235       1\n",
       "665        1\n",
       "307        1\n",
       "169        1\n",
       "442        1\n",
       "264        1\n",
       "280        1\n",
       "194        1\n",
       "165        1\n",
       "64         1\n",
       "132        1\n",
       "635        1\n",
       "113        1\n",
       "460        1\n",
       "451        1\n",
       "111        1\n",
       "549        1\n",
       "455        1\n",
       "1886       1\n",
       "268        1\n",
       "Name: count, dtype: int64"
      ]
     },
     "execution_count": 27,
     "metadata": {},
     "output_type": "execute_result"
    }
   ],
   "source": [
    "inp1['09-12-2013'].value_counts()"
   ]
  },
  {
   "cell_type": "code",
   "execution_count": 28,
   "id": "ef57b575-ee15-455f-b426-41cbc69f7fe9",
   "metadata": {},
   "outputs": [],
   "source": [
    "# replacing the specified values with NaN and converting the columns to float type "
   ]
  },
  {
   "cell_type": "code",
   "execution_count": 29,
   "id": "4df46806-2b7f-44dc-8975-0bdee9cae40b",
   "metadata": {},
   "outputs": [],
   "source": [
    "# Replace 'Orders', 'Removed' and 'removed' with NaN\n",
    "inp1.loc[inp1['09-12-2013'] == 'Removed', '09-12-2013'] = np.NaN\n",
    "inp1.loc[inp1['14-09-2013'] == 'removed', '14-09-2013'] = np.NaN\n",
    "inp1.loc[inp1['16-09-2013'] == 'removed', '16-09-2013'] = np.NaN\n",
    "inp1.loc[inp1['18-09-2013'] == 'removed', '18-09-2013'] = np.NaN\n",
    "inp1.loc[inp1['20-09-2013'] == 'removed', '20-09-2013'] = np.NaN\n",
    "inp1.loc[inp1['22-09-2013'] == 'Orders', '22-09-2013'] = np.NaN"
   ]
  },
  {
   "cell_type": "code",
   "execution_count": 30,
   "id": "7b09177e-820d-4b52-8093-dd709fca789f",
   "metadata": {},
   "outputs": [],
   "source": [
    "# Convert columns to float type\n",
    "inp1['09-12-2013'] = inp1['09-12-2013'].astype(float)\n",
    "inp1['14-09-2013'] = inp1['14-09-2013'].astype(float)\n",
    "inp1['16-09-2013'] = inp1['16-09-2013'].astype(float)\n",
    "inp1['18-09-2013'] = inp1['18-09-2013'].astype(float)\n",
    "inp1['20-09-2013'] = inp1['20-09-2013'].astype(float)\n",
    "inp1['22-09-2013'] = inp1['22-09-2013'].astype(float)"
   ]
  },
  {
   "cell_type": "code",
   "execution_count": 31,
   "id": "b938ac3b-9d43-4d2e-9c84-89ca1cebbe1f",
   "metadata": {},
   "outputs": [],
   "source": [
    "#dropping columns which are having > 50% missing values \n",
    "inp1.drop(columns = ['26-09-2013','30-09-2013','10-02-2013','10-04-2013','10-08-2013','10-10-2013'],inplace=True)"
   ]
  },
  {
   "cell_type": "code",
   "execution_count": 32,
   "id": "fb231e67-e6a1-4038-9aa4-25f45a7d62ff",
   "metadata": {},
   "outputs": [
    {
     "data": {
      "text/plain": [
       "Dress_ID      0\n",
       "29-08-2013    0\n",
       "31-08-2013    0\n",
       "09-02-2013    0\n",
       "09-04-2013    0\n",
       "09-06-2013    0\n",
       "09-08-2013    0\n",
       "09-10-2013    0\n",
       "09-12-2013    1\n",
       "14-09-2013    1\n",
       "16-09-2013    1\n",
       "18-09-2013    1\n",
       "20-09-2013    1\n",
       "22-09-2013    1\n",
       "24-09-2013    0\n",
       "28-09-2013    0\n",
       "10-06-2013    0\n",
       "10-12-2013    0\n",
       "dtype: int64"
      ]
     },
     "execution_count": 32,
     "metadata": {},
     "output_type": "execute_result"
    }
   ],
   "source": [
    "inp1.isnull().sum()"
   ]
  },
  {
   "cell_type": "code",
   "execution_count": 33,
   "id": "db9bd47f-979d-4d71-a409-77f690961630",
   "metadata": {},
   "outputs": [],
   "source": [
    "inp1['Summer']=inp1['29-08-2013']+inp1['31-08-2013']+inp1['09-06-2013']+inp1['09-08-2013']+inp1['10-06-2013']\n",
    "inp1['Winter']=inp1['09-02-2013']+inp1['09-12-2013']+inp1['10-12-2013']\n",
    "inp1['Autumn']=inp1['09-10-2013']+inp1['14-09-2013']+inp1['16-09-2013']+inp1['18-09-2013']+inp1['20-09-2013']+inp1['22-09-2013']+inp1['24-09-2013']+inp1['28-09-2013']\n",
    "inp1['Spring']=inp1['09-04-2013']"
   ]
  },
  {
   "cell_type": "code",
   "execution_count": 34,
   "id": "f3a297ee-a319-4c80-934d-2545c6969fcd",
   "metadata": {},
   "outputs": [
    {
     "data": {
      "text/plain": [
       "Summer     691907.0\n",
       "Winter     473640.0\n",
       "Autumn    1353543.0\n",
       "Spring     143600.0\n",
       "dtype: float64"
      ]
     },
     "execution_count": 34,
     "metadata": {},
     "output_type": "execute_result"
    }
   ],
   "source": [
    "inp1[['Summer','Winter','Autumn','Spring']].sum() # Spring has the lowest sales"
   ]
  },
  {
   "cell_type": "code",
   "execution_count": 35,
   "id": "9e82a9f4-0c8b-48c2-8b9c-992ddbb8fdbf",
   "metadata": {},
   "outputs": [
    {
     "data": {
      "text/html": [
       "<div>\n",
       "<style scoped>\n",
       "    .dataframe tbody tr th:only-of-type {\n",
       "        vertical-align: middle;\n",
       "    }\n",
       "\n",
       "    .dataframe tbody tr th {\n",
       "        vertical-align: top;\n",
       "    }\n",
       "\n",
       "    .dataframe thead th {\n",
       "        text-align: right;\n",
       "    }\n",
       "</style>\n",
       "<table border=\"1\" class=\"dataframe\">\n",
       "  <thead>\n",
       "    <tr style=\"text-align: right;\">\n",
       "      <th></th>\n",
       "      <th>Dress_ID</th>\n",
       "      <th>Style</th>\n",
       "      <th>Price</th>\n",
       "      <th>Rating</th>\n",
       "      <th>Size</th>\n",
       "      <th>Season</th>\n",
       "      <th>NeckLine</th>\n",
       "      <th>SleeveLength</th>\n",
       "      <th>Material</th>\n",
       "      <th>FabricType</th>\n",
       "      <th>Decoration</th>\n",
       "      <th>Pattern Type</th>\n",
       "      <th>Recommendation</th>\n",
       "      <th>29-08-2013</th>\n",
       "      <th>31-08-2013</th>\n",
       "      <th>09-02-2013</th>\n",
       "      <th>09-04-2013</th>\n",
       "      <th>09-06-2013</th>\n",
       "      <th>09-08-2013</th>\n",
       "      <th>09-10-2013</th>\n",
       "      <th>09-12-2013</th>\n",
       "      <th>14-09-2013</th>\n",
       "      <th>16-09-2013</th>\n",
       "      <th>18-09-2013</th>\n",
       "      <th>20-09-2013</th>\n",
       "      <th>22-09-2013</th>\n",
       "      <th>24-09-2013</th>\n",
       "      <th>28-09-2013</th>\n",
       "      <th>10-06-2013</th>\n",
       "      <th>10-12-2013</th>\n",
       "      <th>Summer</th>\n",
       "      <th>Winter</th>\n",
       "      <th>Autumn</th>\n",
       "      <th>Spring</th>\n",
       "    </tr>\n",
       "  </thead>\n",
       "  <tbody>\n",
       "    <tr>\n",
       "      <th>0</th>\n",
       "      <td>1006032852</td>\n",
       "      <td>Sexy</td>\n",
       "      <td>Low</td>\n",
       "      <td>4.6</td>\n",
       "      <td>Medium</td>\n",
       "      <td>Summer</td>\n",
       "      <td>o-neck</td>\n",
       "      <td>sleevless</td>\n",
       "      <td>NaN</td>\n",
       "      <td>chiffon</td>\n",
       "      <td>ruffles</td>\n",
       "      <td>animal</td>\n",
       "      <td>1</td>\n",
       "      <td>2114</td>\n",
       "      <td>2274</td>\n",
       "      <td>2491</td>\n",
       "      <td>2660</td>\n",
       "      <td>2727</td>\n",
       "      <td>2887</td>\n",
       "      <td>2930</td>\n",
       "      <td>3119.0</td>\n",
       "      <td>3204.0</td>\n",
       "      <td>3277.0</td>\n",
       "      <td>3321.0</td>\n",
       "      <td>3386.0</td>\n",
       "      <td>3479.0</td>\n",
       "      <td>3554</td>\n",
       "      <td>3706</td>\n",
       "      <td>3897</td>\n",
       "      <td>4048</td>\n",
       "      <td>13899</td>\n",
       "      <td>9658.0</td>\n",
       "      <td>26857.0</td>\n",
       "      <td>2660</td>\n",
       "    </tr>\n",
       "    <tr>\n",
       "      <th>1</th>\n",
       "      <td>1212192089</td>\n",
       "      <td>Casual</td>\n",
       "      <td>Low</td>\n",
       "      <td>0.0</td>\n",
       "      <td>Large</td>\n",
       "      <td>Summer</td>\n",
       "      <td>o-neck</td>\n",
       "      <td>Petal</td>\n",
       "      <td>microfiber</td>\n",
       "      <td>NaN</td>\n",
       "      <td>ruffles</td>\n",
       "      <td>animal</td>\n",
       "      <td>0</td>\n",
       "      <td>151</td>\n",
       "      <td>275</td>\n",
       "      <td>570</td>\n",
       "      <td>750</td>\n",
       "      <td>813</td>\n",
       "      <td>1066</td>\n",
       "      <td>1164</td>\n",
       "      <td>1558.0</td>\n",
       "      <td>1756.0</td>\n",
       "      <td>1878.0</td>\n",
       "      <td>1985.0</td>\n",
       "      <td>2106.0</td>\n",
       "      <td>2454.0</td>\n",
       "      <td>2710</td>\n",
       "      <td>3258</td>\n",
       "      <td>3911</td>\n",
       "      <td>4277</td>\n",
       "      <td>6216</td>\n",
       "      <td>6405.0</td>\n",
       "      <td>17311.0</td>\n",
       "      <td>750</td>\n",
       "    </tr>\n",
       "    <tr>\n",
       "      <th>2</th>\n",
       "      <td>1190380701</td>\n",
       "      <td>vintage</td>\n",
       "      <td>High</td>\n",
       "      <td>0.0</td>\n",
       "      <td>Large</td>\n",
       "      <td>Automn</td>\n",
       "      <td>o-neck</td>\n",
       "      <td>full</td>\n",
       "      <td>polyster</td>\n",
       "      <td>NaN</td>\n",
       "      <td>NaN</td>\n",
       "      <td>print</td>\n",
       "      <td>0</td>\n",
       "      <td>6</td>\n",
       "      <td>7</td>\n",
       "      <td>7</td>\n",
       "      <td>7</td>\n",
       "      <td>8</td>\n",
       "      <td>8</td>\n",
       "      <td>9</td>\n",
       "      <td>10.0</td>\n",
       "      <td>10.0</td>\n",
       "      <td>10.0</td>\n",
       "      <td>10.0</td>\n",
       "      <td>10.0</td>\n",
       "      <td>11.0</td>\n",
       "      <td>11</td>\n",
       "      <td>11</td>\n",
       "      <td>11</td>\n",
       "      <td>11</td>\n",
       "      <td>40</td>\n",
       "      <td>28.0</td>\n",
       "      <td>82.0</td>\n",
       "      <td>7</td>\n",
       "    </tr>\n",
       "    <tr>\n",
       "      <th>3</th>\n",
       "      <td>966005983</td>\n",
       "      <td>Brief</td>\n",
       "      <td>Average</td>\n",
       "      <td>4.6</td>\n",
       "      <td>Large</td>\n",
       "      <td>Spring</td>\n",
       "      <td>o-neck</td>\n",
       "      <td>full</td>\n",
       "      <td>silk</td>\n",
       "      <td>chiffon</td>\n",
       "      <td>embroidary</td>\n",
       "      <td>print</td>\n",
       "      <td>1</td>\n",
       "      <td>1005</td>\n",
       "      <td>1128</td>\n",
       "      <td>1326</td>\n",
       "      <td>1455</td>\n",
       "      <td>1507</td>\n",
       "      <td>1621</td>\n",
       "      <td>1637</td>\n",
       "      <td>1723.0</td>\n",
       "      <td>1746.0</td>\n",
       "      <td>1783.0</td>\n",
       "      <td>1796.0</td>\n",
       "      <td>1812.0</td>\n",
       "      <td>1845.0</td>\n",
       "      <td>1878</td>\n",
       "      <td>1914</td>\n",
       "      <td>1952</td>\n",
       "      <td>1963</td>\n",
       "      <td>7213</td>\n",
       "      <td>5012.0</td>\n",
       "      <td>14411.0</td>\n",
       "      <td>1455</td>\n",
       "    </tr>\n",
       "    <tr>\n",
       "      <th>4</th>\n",
       "      <td>876339541</td>\n",
       "      <td>cute</td>\n",
       "      <td>Low</td>\n",
       "      <td>4.5</td>\n",
       "      <td>Medium</td>\n",
       "      <td>Summer</td>\n",
       "      <td>o-neck</td>\n",
       "      <td>butterfly</td>\n",
       "      <td>chiffonfabric</td>\n",
       "      <td>chiffon</td>\n",
       "      <td>bow</td>\n",
       "      <td>dot</td>\n",
       "      <td>0</td>\n",
       "      <td>996</td>\n",
       "      <td>1175</td>\n",
       "      <td>1304</td>\n",
       "      <td>1396</td>\n",
       "      <td>1432</td>\n",
       "      <td>1559</td>\n",
       "      <td>1570</td>\n",
       "      <td>1638.0</td>\n",
       "      <td>1655.0</td>\n",
       "      <td>1681.0</td>\n",
       "      <td>1743.0</td>\n",
       "      <td>1824.0</td>\n",
       "      <td>1919.0</td>\n",
       "      <td>2032</td>\n",
       "      <td>2252</td>\n",
       "      <td>2544</td>\n",
       "      <td>2736</td>\n",
       "      <td>7706</td>\n",
       "      <td>5678.0</td>\n",
       "      <td>14676.0</td>\n",
       "      <td>1396</td>\n",
       "    </tr>\n",
       "  </tbody>\n",
       "</table>\n",
       "</div>"
      ],
      "text/plain": [
       "     Dress_ID    Style    Price  Rating    Size  Season NeckLine SleeveLength  \\\n",
       "0  1006032852     Sexy      Low     4.6  Medium  Summer   o-neck    sleevless   \n",
       "1  1212192089   Casual      Low     0.0   Large  Summer   o-neck        Petal   \n",
       "2  1190380701  vintage     High     0.0   Large  Automn   o-neck         full   \n",
       "3   966005983    Brief  Average     4.6   Large  Spring   o-neck         full   \n",
       "4   876339541     cute      Low     4.5  Medium  Summer   o-neck    butterfly   \n",
       "\n",
       "        Material FabricType  Decoration Pattern Type  Recommendation  \\\n",
       "0            NaN    chiffon     ruffles       animal               1   \n",
       "1     microfiber        NaN     ruffles       animal               0   \n",
       "2       polyster        NaN         NaN        print               0   \n",
       "3           silk    chiffon  embroidary        print               1   \n",
       "4  chiffonfabric    chiffon         bow          dot               0   \n",
       "\n",
       "   29-08-2013  31-08-2013  09-02-2013  09-04-2013  09-06-2013  09-08-2013  \\\n",
       "0        2114        2274        2491        2660        2727        2887   \n",
       "1         151         275         570         750         813        1066   \n",
       "2           6           7           7           7           8           8   \n",
       "3        1005        1128        1326        1455        1507        1621   \n",
       "4         996        1175        1304        1396        1432        1559   \n",
       "\n",
       "   09-10-2013  09-12-2013  14-09-2013  16-09-2013  18-09-2013  20-09-2013  \\\n",
       "0        2930      3119.0      3204.0      3277.0      3321.0      3386.0   \n",
       "1        1164      1558.0      1756.0      1878.0      1985.0      2106.0   \n",
       "2           9        10.0        10.0        10.0        10.0        10.0   \n",
       "3        1637      1723.0      1746.0      1783.0      1796.0      1812.0   \n",
       "4        1570      1638.0      1655.0      1681.0      1743.0      1824.0   \n",
       "\n",
       "   22-09-2013  24-09-2013  28-09-2013  10-06-2013  10-12-2013  Summer  Winter  \\\n",
       "0      3479.0        3554        3706        3897        4048   13899  9658.0   \n",
       "1      2454.0        2710        3258        3911        4277    6216  6405.0   \n",
       "2        11.0          11          11          11          11      40    28.0   \n",
       "3      1845.0        1878        1914        1952        1963    7213  5012.0   \n",
       "4      1919.0        2032        2252        2544        2736    7706  5678.0   \n",
       "\n",
       "    Autumn  Spring  \n",
       "0  26857.0    2660  \n",
       "1  17311.0     750  \n",
       "2     82.0       7  \n",
       "3  14411.0    1455  \n",
       "4  14676.0    1396  "
      ]
     },
     "execution_count": 35,
     "metadata": {},
     "output_type": "execute_result"
    }
   ],
   "source": [
    " # Merge inp0 with inp1 into inp0. this is also called left merge.\n",
    "inp0 = pd.merge(left=inp0,right=inp1, how='left', left_on='Dress_ID',right_on='Dress_ID')\n",
    "inp0.head()"
   ]
  },
  {
   "cell_type": "code",
   "execution_count": 36,
   "id": "2cd2506c-6917-44de-9fb4-8e4c2ff4233f",
   "metadata": {},
   "outputs": [
    {
     "data": {
      "text/plain": [
       "Dress_ID            0\n",
       "Style               0\n",
       "Price               2\n",
       "Rating              0\n",
       "Size                0\n",
       "Season              2\n",
       "NeckLine            3\n",
       "SleeveLength        2\n",
       "Material          119\n",
       "FabricType        256\n",
       "Decoration        224\n",
       "Pattern Type      102\n",
       "Recommendation      0\n",
       "Summer              0\n",
       "Winter              1\n",
       "Autumn              2\n",
       "Spring              0\n",
       "dtype: int64"
      ]
     },
     "execution_count": 36,
     "metadata": {},
     "output_type": "execute_result"
    }
   ],
   "source": [
    "# dropping all the date columns in the merged dataframe as its already combined into Seasons\n",
    "inp0.drop(inp0.loc[:,'29-08-2013':'10-12-2013'].columns, axis= 1, inplace= True)\n",
    "inp0.isnull().sum()"
   ]
  },
  {
   "cell_type": "code",
   "execution_count": 37,
   "id": "eb079235-0c17-4684-8d19-cb2fa2b03680",
   "metadata": {},
   "outputs": [],
   "source": [
    "inp0 = inp0[~inp0.Price.isnull()]"
   ]
  },
  {
   "cell_type": "code",
   "execution_count": 38,
   "id": "13ef4eab-4989-4003-b8a6-f4aece29b2f1",
   "metadata": {},
   "outputs": [],
   "source": [
    "inp0 = inp0[~inp0.Season.isnull()]"
   ]
  },
  {
   "cell_type": "code",
   "execution_count": 39,
   "id": "51599c25-2a1c-4223-b25e-005aa4aef171",
   "metadata": {},
   "outputs": [],
   "source": [
    "inp0 = inp0[~inp0.NeckLine.isnull()]      "
   ]
  },
  {
   "cell_type": "code",
   "execution_count": 40,
   "id": "b258660e-2221-4a80-8d9d-de8bedceb36b",
   "metadata": {},
   "outputs": [],
   "source": [
    "inp0 = inp0[~inp0.SleeveLength.isnull()]"
   ]
  },
  {
   "cell_type": "code",
   "execution_count": 41,
   "id": "e4fa379d-d5ef-4181-95c2-0c4d8bbd7fca",
   "metadata": {},
   "outputs": [],
   "source": [
    "inp0 = inp0[~inp0.Winter.isnull()]"
   ]
  },
  {
   "cell_type": "code",
   "execution_count": 42,
   "id": "c7b17ab5-2b93-43b0-bafc-7b1ddba0b554",
   "metadata": {},
   "outputs": [],
   "source": [
    "inp0 = inp0[~inp0.Autumn.isnull()]"
   ]
  },
  {
   "cell_type": "code",
   "execution_count": 43,
   "id": "cdb5b8ec-8f1d-4d77-aa3a-b4c08714de3c",
   "metadata": {},
   "outputs": [],
   "source": [
    "inp0.Material=inp0.Material.replace(np.nan,'Missing')"
   ]
  },
  {
   "cell_type": "code",
   "execution_count": 44,
   "id": "ab35ba22-5e4c-4c08-8aea-1c9bc949ccd3",
   "metadata": {},
   "outputs": [],
   "source": [
    "inp0.FabricType=inp0.FabricType.replace(np.nan,'Missing')"
   ]
  },
  {
   "cell_type": "code",
   "execution_count": 45,
   "id": "711618d3-dec3-4c31-9f79-8abc42c7d490",
   "metadata": {},
   "outputs": [],
   "source": [
    "inp0.Decoration=inp0.Decoration.replace(np.nan,'Missing')"
   ]
  },
  {
   "cell_type": "code",
   "execution_count": 46,
   "id": "759a03b5-e900-4fe7-965d-0d348f01ae95",
   "metadata": {},
   "outputs": [],
   "source": [
    "inp0['Pattern Type']=inp0['Pattern Type'].replace(np.nan,'Missing')"
   ]
  },
  {
   "cell_type": "code",
   "execution_count": 47,
   "id": "2ed6877c-e498-4182-822c-a15feda00596",
   "metadata": {},
   "outputs": [
    {
     "data": {
      "text/plain": [
       "array(['Summer', 'Automn', 'Spring', 'Winter', 'spring', 'winter',\n",
       "       'Autumn'], dtype=object)"
      ]
     },
     "execution_count": 47,
     "metadata": {},
     "output_type": "execute_result"
    }
   ],
   "source": [
    "inp0.Season.unique()"
   ]
  },
  {
   "cell_type": "code",
   "execution_count": 48,
   "id": "140444df-72ba-4180-87b6-5dc0d3c611c1",
   "metadata": {},
   "outputs": [
    {
     "data": {
      "text/plain": [
       "array(['Summer', 'Autumn', 'Spring', 'Winter'], dtype=object)"
      ]
     },
     "execution_count": 48,
     "metadata": {},
     "output_type": "execute_result"
    }
   ],
   "source": [
    "inp0.Season=inp0.Season.replace('Automn',\"Autumn\")\n",
    "inp0.Season=inp0.Season.replace('spring',\"Spring\")\n",
    "inp0.Season=inp0.Season.replace('winter',\"Winter\")\n",
    "inp0.Season.unique()"
   ]
  },
  {
   "cell_type": "code",
   "execution_count": 49,
   "id": "52bba861-701e-4b9c-93ea-d79d5bebbc0e",
   "metadata": {},
   "outputs": [
    {
     "data": {
      "text/plain": [
       "array(['sleevless', 'Petal', 'full', 'butterfly', 'short', 'threequarter',\n",
       "       'halfsleeve', 'cap-sleeves', 'turndowncollor', 'threequater',\n",
       "       'capsleeves', 'sleeveless', 'sleeevless', 'half', 'urndowncollor',\n",
       "       'thressqatar', 'sleveless'], dtype=object)"
      ]
     },
     "execution_count": 49,
     "metadata": {},
     "output_type": "execute_result"
    }
   ],
   "source": [
    "inp0.SleeveLength.unique()"
   ]
  },
  {
   "cell_type": "code",
   "execution_count": 50,
   "id": "4ac56c05-259e-489e-9775-1797e9196d94",
   "metadata": {},
   "outputs": [
    {
     "data": {
      "text/plain": [
       "array(['Sleeve Less', 'Petal', 'Full Sleeves', 'butterfly', 'short',\n",
       "       'Three Quater', 'Half Sleeves', 'Cap Sleeves', 'Collar'],\n",
       "      dtype=object)"
      ]
     },
     "execution_count": 50,
     "metadata": {},
     "output_type": "execute_result"
    }
   ],
   "source": [
    "inp0.SleeveLength=inp0.SleeveLength.replace(['sleevless','sleeveless','sleeevless','sleveless'],\"Sleeve Less\")\n",
    "inp0.SleeveLength=inp0.SleeveLength.replace('full', \"Full Sleeves\")\n",
    "inp0.SleeveLength=inp0.SleeveLength.replace(['half','halfsleeve'] ,\"Half Sleeves\")\n",
    "inp0.SleeveLength=inp0.SleeveLength.replace(['threequarter','threequater','thressqatar'],\"Three Quater\")\n",
    "inp0.SleeveLength=inp0.SleeveLength.replace(['turndowncollor','urndowncollor'],\"Collar\")\n",
    "inp0.SleeveLength=inp0.SleeveLength.replace(['cap-sleeves','capsleeves'],\"Cap Sleeves\")\n",
    "inp0.SleeveLength.unique()"
   ]
  },
  {
   "cell_type": "code",
   "execution_count": 51,
   "id": "c1a40972-84bb-430c-94d2-57022527955e",
   "metadata": {},
   "outputs": [
    {
     "data": {
      "text/plain": [
       "array(['chiffon', 'Missing', 'broadcloth', 'jersey', 'other', 'batik',\n",
       "       'satin', 'flannael', 'worsted', 'poplin', 'dobby', 'knitting',\n",
       "       'flannel', 'tulle', 'sattin', 'organza', 'lace', 'Corduroy',\n",
       "       'wollen', 'knitted', 'shiffon', 'terry'], dtype=object)"
      ]
     },
     "execution_count": 51,
     "metadata": {},
     "output_type": "execute_result"
    }
   ],
   "source": [
    "inp0.FabricType.unique()"
   ]
  },
  {
   "cell_type": "code",
   "execution_count": 52,
   "id": "bc0412ca-f886-4f0c-beaf-07d364289e5e",
   "metadata": {},
   "outputs": [
    {
     "data": {
      "text/plain": [
       "array(['chiffon', 'Missing', 'broadcloth', 'jersey', 'other', 'batik',\n",
       "       'satin', 'flannael', 'worsted', 'poplin', 'dobby', 'knitting',\n",
       "       'flannel', 'tulle', 'sattin', 'organza', 'lace', 'Corduroy',\n",
       "       'wollen', 'knitted', 'terry'], dtype=object)"
      ]
     },
     "execution_count": 52,
     "metadata": {},
     "output_type": "execute_result"
    }
   ],
   "source": [
    "inp0.FabricType=inp0.FabricType.replace(['chiffon','shiffon'],\"chiffon\")\n",
    "inp0.FabricType.unique()"
   ]
  },
  {
   "cell_type": "code",
   "execution_count": 53,
   "id": "83beafba-b8cf-4ac4-9597-5d4cee15b154",
   "metadata": {},
   "outputs": [
    {
     "data": {
      "text/plain": [
       "array(['ruffles', 'Missing', 'embroidary', 'bow', 'beading', 'lace',\n",
       "       'sashes', 'hollowout', 'pockets', 'sequined', 'applique', 'button',\n",
       "       'Tiered', 'rivet', 'feathers', 'flowers', 'pearls', 'crystal',\n",
       "       'ruched', 'draped', 'tassel', 'plain', 'cascading', 'none'],\n",
       "      dtype=object)"
      ]
     },
     "execution_count": 53,
     "metadata": {},
     "output_type": "execute_result"
    }
   ],
   "source": [
    "inp0.Decoration.unique()"
   ]
  },
  {
   "cell_type": "code",
   "execution_count": 54,
   "id": "71134ce2-4255-44d5-9516-6f31a68cf767",
   "metadata": {},
   "outputs": [
    {
     "data": {
      "text/plain": [
       "array(['Missing', 'microfiber', 'polyster', 'silk', 'chiffonfabric',\n",
       "       'cotton', 'nylon', 'other', 'milksilk', 'linen', 'rayon', 'lycra',\n",
       "       'mix', 'acrylic', 'spandex', 'lace', 'modal', 'cashmere', 'viscos',\n",
       "       'sill', 'wool', 'model', 'shiffon'], dtype=object)"
      ]
     },
     "execution_count": 54,
     "metadata": {},
     "output_type": "execute_result"
    }
   ],
   "source": [
    "inp0.Material.unique()"
   ]
  },
  {
   "cell_type": "code",
   "execution_count": 55,
   "id": "06099ec9-193a-438b-9099-e779fc1b7a99",
   "metadata": {},
   "outputs": [],
   "source": [
    "# 0.2 Univariate Analysis\n",
    "# 0.2.1 Categorical Unordered Univariate Analysis"
   ]
  },
  {
   "cell_type": "code",
   "execution_count": 56,
   "id": "c90306f5-e3eb-4356-b13c-e23c99050472",
   "metadata": {},
   "outputs": [],
   "source": [
    "total = inp0.groupby(by=[\"Style\"])[[\"Summer\", \"Autumn\", \"Winter\", \"Spring\"]].sum()"
   ]
  },
  {
   "cell_type": "code",
   "execution_count": 57,
   "id": "6f1188a3-94bc-4e62-a4c8-f26a73018449",
   "metadata": {},
   "outputs": [
    {
     "data": {
      "image/png": "[encoded data removed]",
      "text/plain": [
       "<Figure size 1500x800 with 1 Axes>"
      ]
     },
     "metadata": {},
     "output_type": "display_data"
    }
   ],
   "source": [
    "total.plot(kind=\"barh\",figsize=(15,8))\n",
    "plt.show()"
   ]
  },
  {
   "cell_type": "code",
   "execution_count": 58,
   "id": "093dae0f-81da-4750-b8f7-15ab3bd7a433",
   "metadata": {},
   "outputs": [
    {
     "data": {
      "text/plain": [
       "Index(['Dress_ID', 'Style', 'Price', 'Rating', 'Size', 'Season', 'NeckLine',\n",
       "       'SleeveLength', 'Material', 'FabricType', 'Decoration', 'Pattern Type',\n",
       "       'Recommendation', 'Summer', 'Winter', 'Autumn', 'Spring'],\n",
       "      dtype='object')"
      ]
     },
     "execution_count": 58,
     "metadata": {},
     "output_type": "execute_result"
    }
   ],
   "source": [
    "inp0.columns"
   ]
  },
  {
   "cell_type": "code",
   "execution_count": 59,
   "id": "6185e069-cd81-4384-be34-f4dc915bfe33",
   "metadata": {},
   "outputs": [],
   "source": [
    " # Group \"Style\" categories into \"Others\" which have less than 50000 sales␣ across all the seasons."
   ]
  },
  {
   "cell_type": "code",
   "execution_count": 60,
   "id": "e3ed8cd6-90e9-42fc-a35e-a57716b275a3",
   "metadata": {},
   "outputs": [
    {
     "name": "stdout",
     "output_type": "stream",
     "text": [
      "Style\n",
      "Brief        139628.0\n",
      "Casual      1103558.0\n",
      "Others        16059.0\n",
      "Sexy         529798.0\n",
      "bohemian      69117.0\n",
      "cute         361999.0\n",
      "party        142041.0\n",
      "vintage      180574.0\n",
      "work          93095.0\n",
      "dtype: float64\n"
     ]
    }
   ],
   "source": [
    "# Step 1: Calculate total sales for each Style category across all seasons\n",
    "total_sales = inp0.groupby(\"Style\")[[\"Summer\", \"Autumn\", \"Winter\", \"Spring\"]].sum().sum(axis=1)\n",
    "\n",
    "# Step 2: Identify Style categories with total sales less than 50000\n",
    "less_than_50000 = total_sales[total_sales < 50000]\n",
    "\n",
    "# Step 3: Replace these Style categories with \"Others\"\n",
    "inp0['Style'] = inp0['Style'].apply(lambda x: 'Others' if x in less_than_50000 else x)\n",
    "\n",
    "# Recalculate total sales after grouping \"Others\"\n",
    "total_sales = inp0.groupby(\"Style\")[[\"Summer\", \"Autumn\", \"Winter\", \"Spring\"]].sum().sum(axis=1)\n",
    "print(total_sales)"
   ]
  },
  {
   "cell_type": "code",
   "execution_count": 61,
   "id": "e39ec2f6-9ead-47a3-9361-3a768e034b23",
   "metadata": {},
   "outputs": [
    {
     "data": {
      "text/plain": [
       "Text(0.5, 1.0, 'Total Sales by Style')"
      ]
     },
     "execution_count": 61,
     "metadata": {},
     "output_type": "execute_result"
    },
    {
     "data": {
      "image/png": "[encoded data removed]",
      "text/plain": [
       "<Figure size 1000x600 with 1 Axes>"
      ]
     },
     "metadata": {},
     "output_type": "display_data"
    }
   ],
   "source": [
    "# Step 4: Create a horizontal bar graph\n",
    "plt.figure(figsize=(10, 6))\n",
    "total_sales.sort_values().plot(kind='barh', color='skyblue')\n",
    "plt.xlabel('Total Sales')\n",
    "plt.ylabel('Style')\n",
    "plt.title('Total Sales by Style')"
   ]
  },
  {
   "cell_type": "code",
   "execution_count": 62,
   "id": "6df2e73c-afb7-4673-9491-53ebbbe5531e",
   "metadata": {},
   "outputs": [
    {
     "data": {
      "text/plain": [
       "Style\n",
       "Casual      46.072187\n",
       "Sexy        15.074310\n",
       "party       10.191083\n",
       "cute         9.129512\n",
       "vintage      5.307856\n",
       "bohemian     4.883227\n",
       "Brief        3.609342\n",
       "work         3.609342\n",
       "Others       2.123142\n",
       "Name: proportion, dtype: float64"
      ]
     },
     "execution_count": 62,
     "metadata": {},
     "output_type": "execute_result"
    }
   ],
   "source": [
    "# Calculate the percentage of each categories in the \"Style\" variable.\n",
    "percentage=inp0.Style.value_counts(normalize=True)*100\n",
    "percentage"
   ]
  },
  {
   "cell_type": "code",
   "execution_count": 63,
   "id": "32bd7e57-1db7-45bb-9b65-4854f997208a",
   "metadata": {},
   "outputs": [],
   "source": [
    " # Group \"Neckline\" categories into \"Others\" which have less than 50000 sales␣ across all the seasons."
   ]
  },
  {
   "cell_type": "code",
   "execution_count": 64,
   "id": "2ec684fa-53c5-4c5a-9b58-d23d5241eecd",
   "metadata": {},
   "outputs": [
    {
     "name": "stdout",
     "output_type": "stream",
     "text": [
      "NeckLine\n",
      "Others             106315.0\n",
      "boat-neck           53049.0\n",
      "o-neck            1671102.0\n",
      "ruffled            118871.0\n",
      "slash-neck          68396.0\n",
      "turndowncollor      68496.0\n",
      "v-neck             549640.0\n",
      "dtype: float64\n"
     ]
    }
   ],
   "source": [
    "# Step 1: Calculate total sales for each NeckLine category across all seasons\n",
    "total_sales_NeckLine = inp0.groupby(\"NeckLine\")[[\"Summer\", \"Autumn\", \"Winter\", \"Spring\"]].sum().sum(axis=1)\n",
    "\n",
    "# Step 2: Identify NeckLine categories with total sales less than 50000\n",
    "less_than_50000 = total_sales_NeckLine[total_sales_NeckLine < 50000]\n",
    "\n",
    "# Step 3: Replace these NeckLine categories with \"Others\"\n",
    "inp0['NeckLine'] = inp0['NeckLine'].apply(lambda x: 'Others' if x in less_than_50000 else x)\n",
    "\n",
    "# Recalculate total sales after grouping \"Others\"\n",
    "total_sales_NeckLine = inp0.groupby(\"NeckLine\")[[\"Summer\", \"Autumn\", \"Winter\", \"Spring\"]].sum().sum(axis=1)\n",
    "print(total_sales_NeckLine)"
   ]
  },
  {
   "cell_type": "code",
   "execution_count": 65,
   "id": "b755226e-b170-414a-b74f-8a097a9d53bc",
   "metadata": {},
   "outputs": [
    {
     "data": {
      "text/plain": [
       "Text(0.5, 1.0, 'Total Sales by NeckLine')"
      ]
     },
     "execution_count": 65,
     "metadata": {},
     "output_type": "execute_result"
    },
    {
     "data": {
      "image/png": "[encoded data removed]",
      "text/plain": [
       "<Figure size 1000x600 with 1 Axes>"
      ]
     },
     "metadata": {},
     "output_type": "display_data"
    }
   ],
   "source": [
    "# Step 4: Create a horizontal bar graph\n",
    "plt.figure(figsize=(10, 6))\n",
    "total_sales_NeckLine.sort_values().plot(kind='barh', color='skyblue')\n",
    "plt.xlabel('Total Sales')\n",
    "plt.ylabel('NeckLine')\n",
    "plt.title('Total Sales by NeckLine')"
   ]
  },
  {
   "cell_type": "code",
   "execution_count": 66,
   "id": "d16dc200-5267-47b2-b7de-a815a3f99b23",
   "metadata": {},
   "outputs": [
    {
     "data": {
      "text/plain": [
       "NeckLine\n",
       "o-neck            54.140127\n",
       "v-neck            24.840764\n",
       "Others             8.917197\n",
       "slash-neck         5.307856\n",
       "boat-neck          3.821656\n",
       "turndowncollor     2.760085\n",
       "ruffled            0.212314\n",
       "Name: proportion, dtype: float64"
      ]
     },
     "execution_count": 66,
     "metadata": {},
     "output_type": "execute_result"
    }
   ],
   "source": [
    "# Calculate the percentage of each categories in the \"NeckLine\" variable.\n",
    "percentage_NeckLine=inp0.NeckLine.value_counts(normalize=True)*100\n",
    "percentage_NeckLine"
   ]
  },
  {
   "cell_type": "code",
   "execution_count": 67,
   "id": "84ddd747-a847-4121-9e40-dc9fa80cd2e2",
   "metadata": {},
   "outputs": [],
   "source": [
    " # Group \"Sleeve length\" categories into \"Others\" which have less than 50000␣ sales across all the seasons.\n"
   ]
  },
  {
   "cell_type": "code",
   "execution_count": 68,
   "id": "738f990e-23d0-4c3f-a583-537a04999079",
   "metadata": {},
   "outputs": [
    {
     "name": "stdout",
     "output_type": "stream",
     "text": [
      "SleeveLength\n",
      "Full Sleeves    455494.0\n",
      "Half Sleeves    207843.0\n",
      "Others           77324.0\n",
      "Sleeve Less     965535.0\n",
      "Three Quater    233543.0\n",
      "short           696130.0\n",
      "dtype: float64\n"
     ]
    }
   ],
   "source": [
    "# Step 1: Calculate total sales for each SleeveLength category across all seasons\n",
    "total_sales_SleeveLength = inp0.groupby(\"SleeveLength\")[[\"Summer\", \"Autumn\", \"Winter\", \"Spring\"]].sum().sum(axis=1)\n",
    "\n",
    "# Step 2: Identify SleeveLength categories with total sales less than 50000\n",
    "less_than_50000 = total_sales_SleeveLength[total_sales_SleeveLength < 50000]\n",
    "\n",
    "# Step 3: Replace these SleeveLength categories with \"Others\"\n",
    "inp0['SleeveLength'] = inp0['SleeveLength'].apply(lambda x: 'Others' if x in less_than_50000 else x)\n",
    "\n",
    "# Recalculate total sales after grouping \"Others\"\n",
    "total_sales_SleeveLength = inp0.groupby(\"SleeveLength\")[[\"Summer\", \"Autumn\", \"Winter\", \"Spring\"]].sum().sum(axis=1)\n",
    "print(total_sales_SleeveLength)"
   ]
  },
  {
   "cell_type": "code",
   "execution_count": 69,
   "id": "f8b4c111-b1b1-47db-9b45-9b494bf4be47",
   "metadata": {},
   "outputs": [
    {
     "data": {
      "text/plain": [
       "Text(0.5, 1.0, 'Total Sales by SleeveLength')"
      ]
     },
     "execution_count": 69,
     "metadata": {},
     "output_type": "execute_result"
    },
    {
     "data": {
      "image/png": "[encoded data removed]",
      "text/plain": [
       "<Figure size 1000x600 with 1 Axes>"
      ]
     },
     "metadata": {},
     "output_type": "display_data"
    }
   ],
   "source": [
    "# Step 4: Create a horizontal bar graph\n",
    "plt.figure(figsize=(10, 6))\n",
    "total_sales_SleeveLength.sort_values().plot(kind='barh', color='skyblue')\n",
    "plt.xlabel('Total Sales')\n",
    "plt.ylabel('SleeveLength')\n",
    "plt.title('Total Sales by SleeveLength')"
   ]
  },
  {
   "cell_type": "code",
   "execution_count": 70,
   "id": "d9f18ab5-174d-4112-b5be-8fd52c749dbf",
   "metadata": {},
   "outputs": [
    {
     "data": {
      "text/plain": [
       "SleeveLength\n",
       "Sleeve Less     46.709130\n",
       "short           19.532909\n",
       "Full Sleeves    19.320594\n",
       "Half Sleeves     7.006369\n",
       "Three Quater     5.520170\n",
       "Others           1.910828\n",
       "Name: proportion, dtype: float64"
      ]
     },
     "execution_count": 70,
     "metadata": {},
     "output_type": "execute_result"
    }
   ],
   "source": [
    "# Calculate the percentage of each categories in the \"SleeveLength\" variable.\n",
    "percentage_SleeveLength=inp0.SleeveLength.value_counts(normalize=True)*100\n",
    "percentage_SleeveLength"
   ]
  },
  {
   "cell_type": "code",
   "execution_count": 71,
   "id": "c05d1cdf-0534-4cfd-b26d-ec318dce21d0",
   "metadata": {},
   "outputs": [],
   "source": [
    "# Group \"material\" categories into \"Others\" which have less than 25000 sales␣ across all the seasons."
   ]
  },
  {
   "cell_type": "code",
   "execution_count": 72,
   "id": "25c68924-c496-487c-ba62-0dfa1ee15b1f",
   "metadata": {},
   "outputs": [
    {
     "name": "stdout",
     "output_type": "stream",
     "text": [
      "Material\n",
      "Missing          663212.0\n",
      "Others           101502.0\n",
      "chiffonfabric    333284.0\n",
      "cotton           727417.0\n",
      "microfiber        31817.0\n",
      "milksilk          33710.0\n",
      "mix               68490.0\n",
      "nylon             29483.0\n",
      "polyster         487879.0\n",
      "rayon             65208.0\n",
      "silk              93867.0\n",
      "dtype: float64\n"
     ]
    }
   ],
   "source": [
    "total_sales_Material = inp0.groupby(\"Material\")[[\"Summer\", \"Autumn\", \"Winter\", \"Spring\"]].sum().sum(axis=1)\n",
    "\n",
    "less_than_25000 = total_sales_Material[total_sales_Material < 25000]\n",
    "\n",
    "inp0['Material'] = inp0['Material'].apply(lambda x: 'Others' if x in less_than_25000 else x)\n",
    "\n",
    "total_sales_Material = inp0.groupby(\"Material\")[[\"Summer\", \"Autumn\", \"Winter\", \"Spring\"]].sum().sum(axis=1)\n",
    "print(total_sales_Material)"
   ]
  },
  {
   "cell_type": "code",
   "execution_count": 73,
   "id": "95180704-1fe2-47b3-89b4-d172f7714499",
   "metadata": {},
   "outputs": [
    {
     "data": {
      "text/plain": [
       "Text(0.5, 1.0, 'Total Sales by Material')"
      ]
     },
     "execution_count": 73,
     "metadata": {},
     "output_type": "execute_result"
    },
    {
     "data": {
      "image/png": "[encoded data removed]",
      "text/plain": [
       "<Figure size 1000x600 with 1 Axes>"
      ]
     },
     "metadata": {},
     "output_type": "display_data"
    }
   ],
   "source": [
    "# Step 4: Create a horizontal bar graph\n",
    "plt.figure(figsize=(10, 6))\n",
    "total_sales_Material.sort_values().plot(kind='barh', color='skyblue')\n",
    "plt.xlabel('Total Sales')\n",
    "plt.ylabel('Material')\n",
    "plt.title('Total Sales by Material')"
   ]
  },
  {
   "cell_type": "code",
   "execution_count": 74,
   "id": "bbad6882-f1ec-4623-9105-f233d6a2cd73",
   "metadata": {},
   "outputs": [
    {
     "name": "stdout",
     "output_type": "stream",
     "text": [
      "FabricType\n",
      "Missing       1217947.0\n",
      "Others          71233.0\n",
      "broadcloth     119998.0\n",
      "chiffon       1026646.0\n",
      "jersey         119952.0\n",
      "worsted         80093.0\n",
      "dtype: float64\n"
     ]
    }
   ],
   "source": [
    " # Group \"fabric type\" categories into \"Others\" which have less than 25000 sales␣ across all the seasons.\n",
    "total_sales_FabricType = inp0.groupby(\"FabricType\")[[\"Summer\", \"Autumn\", \"Winter\", \"Spring\"]].sum().sum(axis=1)\n",
    "\n",
    "less_than_25000 = total_sales_FabricType[total_sales_FabricType < 25000]\n",
    "\n",
    "inp0['FabricType'] = inp0['FabricType'].apply(lambda x: 'Others' if x in less_than_25000 else x)\n",
    "\n",
    "total_sales_FabricType = inp0.groupby(\"FabricType\")[[\"Summer\", \"Autumn\", \"Winter\", \"Spring\"]].sum().sum(axis=1)\n",
    "print(total_sales_FabricType)"
   ]
  },
  {
   "cell_type": "code",
   "execution_count": 75,
   "id": "5ea6c462-7593-4fcd-b4ab-2b8a8ad12960",
   "metadata": {},
   "outputs": [
    {
     "data": {
      "text/plain": [
       "Text(0.5, 1.0, 'Total Sales by FabricType')"
      ]
     },
     "execution_count": 75,
     "metadata": {},
     "output_type": "execute_result"
    },
    {
     "data": {
      "image/png": "[encoded data removed]",
      "text/plain": [
       "<Figure size 1000x600 with 1 Axes>"
      ]
     },
     "metadata": {},
     "output_type": "display_data"
    }
   ],
   "source": [
    "# Step 4: Create a horizontal bar graph\n",
    "plt.figure(figsize=(10, 6))\n",
    "total_sales_FabricType.sort_values().plot(kind='barh', color='skyblue')\n",
    "plt.xlabel('Total Sales')\n",
    "plt.ylabel('FabricType')\n",
    "plt.title('Total Sales by FabricType')"
   ]
  },
  {
   "cell_type": "code",
   "execution_count": 76,
   "id": "7583dace-22a9-4b4b-b1ef-000d5dcbf9c9",
   "metadata": {},
   "outputs": [
    {
     "name": "stdout",
     "output_type": "stream",
     "text": [
      "Pattern Type\n",
      "Missing       247682.0\n",
      "Others         26824.0\n",
      "animal        211273.0\n",
      "dot           245091.0\n",
      "geometric     114335.0\n",
      "leopard        28284.0\n",
      "patchwork     190360.0\n",
      "print         403025.0\n",
      "solid        1107050.0\n",
      "striped        61945.0\n",
      "dtype: float64\n"
     ]
    }
   ],
   "source": [
    "# Group \"patern type\" categories into \"Others\" which have less than 25000 sales␣ across all the seasons.\n",
    "total_sales_Pattern_Type = inp0.groupby(\"Pattern Type\")[[\"Summer\", \"Autumn\", \"Winter\", \"Spring\"]].sum().sum(axis=1)\n",
    "\n",
    "less_than_25000 = total_sales_Pattern_Type[total_sales_Pattern_Type < 25000]\n",
    "\n",
    "inp0['Pattern Type'] = inp0['Pattern Type'].apply(lambda x: 'Others' if x in less_than_25000 else x)\n",
    "\n",
    "total_sales_Pattern_Type = inp0.groupby(\"Pattern Type\")[[\"Summer\", \"Autumn\", \"Winter\", \"Spring\"]].sum().sum(axis=1)\n",
    "print(total_sales_Pattern_Type)"
   ]
  },
  {
   "cell_type": "code",
   "execution_count": 77,
   "id": "459bc691-1a47-4666-806b-2d07b8ba421e",
   "metadata": {},
   "outputs": [
    {
     "data": {
      "text/plain": [
       "Text(0.5, 1.0, 'Total Sales by Pattern Type')"
      ]
     },
     "execution_count": 77,
     "metadata": {},
     "output_type": "execute_result"
    },
    {
     "data": {
      "image/png": "[encoded data removed]",
      "text/plain": [
       "<Figure size 1000x600 with 1 Axes>"
      ]
     },
     "metadata": {},
     "output_type": "display_data"
    }
   ],
   "source": [
    "# Step 4: Create a horizontal bar graph\n",
    "plt.figure(figsize=(10, 6))\n",
    "total_sales_Pattern_Type.sort_values().plot(kind='barh', color='skyblue')\n",
    "plt.xlabel('Total Sales')\n",
    "plt.ylabel('Pattern Type')\n",
    "plt.title('Total Sales by Pattern Type')"
   ]
  },
  {
   "cell_type": "code",
   "execution_count": 78,
   "id": "202b08ea-2582-4672-a4f3-a0457c59520a",
   "metadata": {},
   "outputs": [
    {
     "name": "stdout",
     "output_type": "stream",
     "text": [
      "Decoration\n",
      "Missing       1084474.0\n",
      "Others         119393.0\n",
      "applique        67873.0\n",
      "beading         48911.0\n",
      "bow            255359.0\n",
      "embroidary      41868.0\n",
      "hollowout       67758.0\n",
      "lace           424588.0\n",
      "ruffles        191187.0\n",
      "sashes         285759.0\n",
      "sequined        48699.0\n",
      "dtype: float64\n"
     ]
    }
   ],
   "source": [
    " # Group \"decoration\" categories into \"Others\" which have less than 25000 sales␣ across all the seasons.\n",
    "total_sales_Decoration = inp0.groupby(\"Decoration\")[[\"Summer\", \"Autumn\", \"Winter\", \"Spring\"]].sum().sum(axis=1)\n",
    "\n",
    "less_than_25000 = total_sales_Decoration[total_sales_Decoration < 25000]\n",
    "\n",
    "inp0['Decoration'] = inp0['Decoration'].apply(lambda x: 'Others' if x in less_than_25000 else x)\n",
    "\n",
    "total_sales_Decoration = inp0.groupby(\"Decoration\")[[\"Summer\", \"Autumn\", \"Winter\", \"Spring\"]].sum().sum(axis=1)\n",
    "print(total_sales_Decoration)"
   ]
  },
  {
   "cell_type": "code",
   "execution_count": 79,
   "id": "188f75f5-0020-4f52-87e3-6bd1fb2b6ca9",
   "metadata": {},
   "outputs": [
    {
     "data": {
      "text/plain": [
       "Text(0.5, 1.0, 'Total Sales by Decoration')"
      ]
     },
     "execution_count": 79,
     "metadata": {},
     "output_type": "execute_result"
    },
    {
     "data": {
      "image/png": "[encoded data removed]",
      "text/plain": [
       "<Figure size 1000x600 with 1 Axes>"
      ]
     },
     "metadata": {},
     "output_type": "display_data"
    }
   ],
   "source": [
    "# Step 4: Create a horizontal bar graph\n",
    "plt.figure(figsize=(10, 6))\n",
    "total_sales_Decoration.sort_values().plot(kind='barh', color='skyblue')\n",
    "plt.xlabel('Total Sales')\n",
    "plt.ylabel('Decoration')\n",
    "plt.title('Total Sales by Decoration')"
   ]
  },
  {
   "cell_type": "code",
   "execution_count": 80,
   "id": "56402d05-869e-4fe0-9451-7271a1243a86",
   "metadata": {},
   "outputs": [
    {
     "data": {
      "text/plain": [
       "Index(['Dress_ID', 'Style', 'Price', 'Rating', 'Size', 'Season', 'NeckLine',\n",
       "       'SleeveLength', 'Material', 'FabricType', 'Decoration', 'Pattern Type',\n",
       "       'Recommendation', 'Summer', 'Winter', 'Autumn', 'Spring'],\n",
       "      dtype='object')"
      ]
     },
     "execution_count": 80,
     "metadata": {},
     "output_type": "execute_result"
    }
   ],
   "source": [
    "#0.2.2 Caregorical Ordered Univariate Analysis\n",
    "# 0.2.3 Numerical variable Univariate analysis:\n",
    "# Describe the numerical variale: \"Autumn\".\n",
    "inp0.columns"
   ]
  },
  {
   "cell_type": "code",
   "execution_count": 81,
   "id": "d2b42099-1a6a-4587-9996-41ddd8baa6aa",
   "metadata": {},
   "outputs": [
    {
     "data": {
      "text/plain": [
       "count      471.000000\n",
       "mean      2852.849257\n",
       "std       5037.033044\n",
       "min          1.000000\n",
       "25%        410.500000\n",
       "50%       1334.000000\n",
       "75%       3126.000000\n",
       "max      55532.000000\n",
       "Name: Autumn, dtype: float64"
      ]
     },
     "execution_count": 81,
     "metadata": {},
     "output_type": "execute_result"
    }
   ],
   "source": [
    "inp0.Autumn.describe()"
   ]
  },
  {
   "cell_type": "code",
   "execution_count": 82,
   "id": "ab869c20-ef41-42ec-8377-84d89db37208",
   "metadata": {},
   "outputs": [
    {
     "data": {
      "text/plain": [
       "52406"
      ]
     },
     "execution_count": 82,
     "metadata": {},
     "output_type": "execute_result"
    }
   ],
   "source": [
    "55532-3126 # difference between the maximum value and the 75th percentile in the 'Autumn' column"
   ]
  },
  {
   "cell_type": "code",
   "execution_count": 83,
   "id": "aa1c3790-404b-4ebc-bc8a-a855e36afafe",
   "metadata": {},
   "outputs": [
    {
     "data": {
      "image/png": "[encoded data removed]",
      "text/plain": [
       "<Figure size 800x600 with 1 Axes>"
      ]
     },
     "metadata": {},
     "output_type": "display_data"
    }
   ],
   "source": [
    " # plot the boxplot of \"Autumn\" column.\n",
    "plt.figure(figsize=(8, 6))\n",
    "plt.boxplot(inp0['Autumn'].dropna(), vert=False)\n",
    "plt.xlabel('Autumn Sales')\n",
    "plt.title('Boxplot of Autumn Sales')\n",
    "plt.show()"
   ]
  },
  {
   "cell_type": "code",
   "execution_count": 84,
   "id": "d7310fbe-513d-447d-9eef-0a69fc5e44f5",
   "metadata": {},
   "outputs": [
    {
     "data": {
      "text/html": [
       "<div>\n",
       "<style scoped>\n",
       "    .dataframe tbody tr th:only-of-type {\n",
       "        vertical-align: middle;\n",
       "    }\n",
       "\n",
       "    .dataframe tbody tr th {\n",
       "        vertical-align: top;\n",
       "    }\n",
       "\n",
       "    .dataframe thead th {\n",
       "        text-align: right;\n",
       "    }\n",
       "</style>\n",
       "<table border=\"1\" class=\"dataframe\">\n",
       "  <thead>\n",
       "    <tr style=\"text-align: right;\">\n",
       "      <th></th>\n",
       "      <th>Summer</th>\n",
       "      <th>Autumn</th>\n",
       "      <th>Winter</th>\n",
       "      <th>Spring</th>\n",
       "    </tr>\n",
       "  </thead>\n",
       "  <tbody>\n",
       "    <tr>\n",
       "      <th>count</th>\n",
       "      <td>471.000000</td>\n",
       "      <td>471.000000</td>\n",
       "      <td>471.000000</td>\n",
       "      <td>471.000000</td>\n",
       "    </tr>\n",
       "    <tr>\n",
       "      <th>mean</th>\n",
       "      <td>1448.906582</td>\n",
       "      <td>2852.849257</td>\n",
       "      <td>994.057325</td>\n",
       "      <td>300.511677</td>\n",
       "    </tr>\n",
       "    <tr>\n",
       "      <th>std</th>\n",
       "      <td>2995.940755</td>\n",
       "      <td>5037.033044</td>\n",
       "      <td>1861.825104</td>\n",
       "      <td>605.470114</td>\n",
       "    </tr>\n",
       "    <tr>\n",
       "      <th>min</th>\n",
       "      <td>2.000000</td>\n",
       "      <td>1.000000</td>\n",
       "      <td>0.000000</td>\n",
       "      <td>1.000000</td>\n",
       "    </tr>\n",
       "    <tr>\n",
       "      <th>25%</th>\n",
       "      <td>156.500000</td>\n",
       "      <td>410.500000</td>\n",
       "      <td>122.000000</td>\n",
       "      <td>28.500000</td>\n",
       "    </tr>\n",
       "    <tr>\n",
       "      <th>50%</th>\n",
       "      <td>518.000000</td>\n",
       "      <td>1334.000000</td>\n",
       "      <td>402.000000</td>\n",
       "      <td>112.000000</td>\n",
       "    </tr>\n",
       "    <tr>\n",
       "      <th>75%</th>\n",
       "      <td>1475.500000</td>\n",
       "      <td>3126.000000</td>\n",
       "      <td>1096.000000</td>\n",
       "      <td>308.500000</td>\n",
       "    </tr>\n",
       "    <tr>\n",
       "      <th>max</th>\n",
       "      <td>35577.000000</td>\n",
       "      <td>55532.000000</td>\n",
       "      <td>20388.000000</td>\n",
       "      <td>7374.000000</td>\n",
       "    </tr>\n",
       "  </tbody>\n",
       "</table>\n",
       "</div>"
      ],
      "text/plain": [
       "             Summer        Autumn        Winter       Spring\n",
       "count    471.000000    471.000000    471.000000   471.000000\n",
       "mean    1448.906582   2852.849257    994.057325   300.511677\n",
       "std     2995.940755   5037.033044   1861.825104   605.470114\n",
       "min        2.000000      1.000000      0.000000     1.000000\n",
       "25%      156.500000    410.500000    122.000000    28.500000\n",
       "50%      518.000000   1334.000000    402.000000   112.000000\n",
       "75%     1475.500000   3126.000000   1096.000000   308.500000\n",
       "max    35577.000000  55532.000000  20388.000000  7374.000000"
      ]
     },
     "execution_count": 84,
     "metadata": {},
     "output_type": "execute_result"
    }
   ],
   "source": [
    "#Which of the following season has the highest difference between the maximum value and 99th\n",
    "#quantile of sales? - Winter - Summer - Spring - Autumn\n",
    "inp0[[\"Summer\",\"Autumn\",\"Winter\",\"Spring\"]].describe()"
   ]
  },
  {
   "cell_type": "code",
   "execution_count": 85,
   "id": "314828d7-5fd2-4dc0-8a5c-11485e139f9c",
   "metadata": {},
   "outputs": [
    {
     "data": {
      "text/plain": [
       "11402.69999999999"
      ]
     },
     "execution_count": 85,
     "metadata": {},
     "output_type": "execute_result"
    }
   ],
   "source": [
    "# Find the maximum and 99th percentile of Winter season.\n",
    "20388-inp0.Winter.quantile(0.99) #Winter Max Subract Quantile "
   ]
  },
  {
   "cell_type": "code",
   "execution_count": 86,
   "id": "8263b8da-bc19-4231-9093-61859a6d5f92",
   "metadata": {},
   "outputs": [
    {
     "data": {
      "text/plain": [
       "21602.999999999996"
      ]
     },
     "execution_count": 86,
     "metadata": {},
     "output_type": "execute_result"
    }
   ],
   "source": [
    "# Find the maximum and 99th percentile of Summer season.\n",
    "35577-inp0.Summer.quantile(0.99) #Summer Max Subract Quantile "
   ]
  },
  {
   "cell_type": "code",
   "execution_count": 87,
   "id": "9b41f1dc-089a-4c36-a4ce-4d4506605849",
   "metadata": {},
   "outputs": [
    {
     "data": {
      "text/plain": [
       "4716.8"
      ]
     },
     "execution_count": 87,
     "metadata": {},
     "output_type": "execute_result"
    }
   ],
   "source": [
    " # Find the maximum and 99th percentile of Spring season.\n",
    "7374.-inp0.Spring.quantile(0.99) #spring Max Subract Quantile "
   ]
  },
  {
   "cell_type": "code",
   "execution_count": 88,
   "id": "2a177f1d-58e5-4b8c-9eca-7bb2f582e4f7",
   "metadata": {},
   "outputs": [
    {
     "data": {
      "text/plain": [
       "31397.999999999975"
      ]
     },
     "execution_count": 88,
     "metadata": {},
     "output_type": "execute_result"
    }
   ],
   "source": [
    " # Find the maximum and 99th percentile of Autumn season.\n",
    "55532-inp0.Autumn.quantile(0.99) #Autumn Max Subract Quantile "
   ]
  },
  {
   "cell_type": "code",
   "execution_count": 89,
   "id": "a66c7ea2-9877-4206-ba02-dda0f0826669",
   "metadata": {},
   "outputs": [
    {
     "data": {
      "text/plain": [
       "Price\n",
       "Average      3.454430\n",
       "High         2.914286\n",
       "Low          3.731481\n",
       "Medium       3.156667\n",
       "very-high    3.123810\n",
       "Name: Rating, dtype: float64"
      ]
     },
     "execution_count": 89,
     "metadata": {},
     "output_type": "execute_result"
    }
   ],
   "source": [
    "#0.3 Bivariate Analysis\n",
    "#0.3.1 Numerical- Categorical analysis\n",
    "#Which of the following “Price” category has the lowest average value of rating? - very-high -\n",
    "#Medium - Low - High\n",
    "# Find the Mean of Ratings for each Price category.\n",
    "mean=inp0.groupby(by=[\"Price\"])[\"Rating\"].mean()\n",
    "mean"
   ]
  },
  {
   "cell_type": "code",
   "execution_count": 90,
   "id": "040c89fd-8cc7-4387-b654-98d51f1ff969",
   "metadata": {},
   "outputs": [],
   "source": [
    "# very-high has the lowest average rating"
   ]
  },
  {
   "cell_type": "code",
   "execution_count": 91,
   "id": "215dac8b-84eb-4514-99ef-8848aeb879c9",
   "metadata": {},
   "outputs": [
    {
     "data": {
      "text/plain": [
       "Style\n",
       "Brief       4.6\n",
       "Casual      4.6\n",
       "Others      0.0\n",
       "Sexy        4.6\n",
       "bohemian    4.6\n",
       "cute        4.6\n",
       "party       4.7\n",
       "vintage     4.6\n",
       "work        4.7\n",
       "Name: Rating, dtype: float64"
      ]
     },
     "execution_count": 91,
     "metadata": {},
     "output_type": "execute_result"
    }
   ],
   "source": [
    " # Find the median of Ratings for each Style category.\n",
    "#What is the median of the rating of “vintage” category in Style column? - 4.6 - 4.7 - 4.55 - 0.00\n",
    "median=inp0.groupby(by=[\"Style\"])[\"Rating\"].median()\n",
    "median\n",
    " # Find the median of Ratings for each Style category."
   ]
  },
  {
   "cell_type": "code",
   "execution_count": 92,
   "id": "bd7beec5-b19c-4eef-adc4-f754d29a9fc0",
   "metadata": {},
   "outputs": [],
   "source": [
    "# median Vintage rating is 4.6"
   ]
  },
  {
   "cell_type": "code",
   "execution_count": 93,
   "id": "d06f4470-4bab-487c-8b59-ed3932ec51e7",
   "metadata": {},
   "outputs": [
    {
     "data": {
      "text/html": [
       "<div>\n",
       "<style scoped>\n",
       "    .dataframe tbody tr th:only-of-type {\n",
       "        vertical-align: middle;\n",
       "    }\n",
       "\n",
       "    .dataframe tbody tr th {\n",
       "        vertical-align: top;\n",
       "    }\n",
       "\n",
       "    .dataframe thead th {\n",
       "        text-align: right;\n",
       "    }\n",
       "</style>\n",
       "<table border=\"1\" class=\"dataframe\">\n",
       "  <thead>\n",
       "    <tr style=\"text-align: right;\">\n",
       "      <th></th>\n",
       "      <th>Autumn</th>\n",
       "      <th>Winter</th>\n",
       "      <th>Spring</th>\n",
       "      <th>Summer</th>\n",
       "    </tr>\n",
       "    <tr>\n",
       "      <th>Recommendation</th>\n",
       "      <th></th>\n",
       "      <th></th>\n",
       "      <th></th>\n",
       "      <th></th>\n",
       "    </tr>\n",
       "  </thead>\n",
       "  <tbody>\n",
       "    <tr>\n",
       "      <th>0</th>\n",
       "      <td>2841.720588</td>\n",
       "      <td>987.654412</td>\n",
       "      <td>298.209559</td>\n",
       "      <td>1433.547794</td>\n",
       "    </tr>\n",
       "    <tr>\n",
       "      <th>1</th>\n",
       "      <td>2868.060302</td>\n",
       "      <td>1002.809045</td>\n",
       "      <td>303.658291</td>\n",
       "      <td>1469.899497</td>\n",
       "    </tr>\n",
       "  </tbody>\n",
       "</table>\n",
       "</div>"
      ],
      "text/plain": [
       "                     Autumn       Winter      Spring       Summer\n",
       "Recommendation                                                   \n",
       "0               2841.720588   987.654412  298.209559  1433.547794\n",
       "1               2868.060302  1002.809045  303.658291  1469.899497"
      ]
     },
     "execution_count": 93,
     "metadata": {},
     "output_type": "execute_result"
    }
   ],
   "source": [
    "\n",
    "#Which of the following season has the highest average value of sale for “Recommendation” value\n",
    "#equals to 1. - Summer - Spring - Autumn - Winter\n",
    "\n",
    "\n",
    "result = inp0.groupby(by=[\"Recommendation\"])[[\"Autumn\", \"Winter\", \"Spring\", \"Summer\"]].mean()\n",
    "result"
   ]
  },
  {
   "cell_type": "code",
   "execution_count": 94,
   "id": "a09275ef-13e9-4959-99fb-0984084682a1",
   "metadata": {},
   "outputs": [
    {
     "data": {
      "image/png": "[encoded data removed]",
      "text/plain": [
       "<Figure size 640x480 with 1 Axes>"
      ]
     },
     "metadata": {},
     "output_type": "display_data"
    }
   ],
   "source": [
    "result.plot(kind=\"barh\")\n",
    "plt.legend(bbox_to_anchor=(1.31,0.4))\n",
    "plt.show()"
   ]
  },
  {
   "cell_type": "code",
   "execution_count": 95,
   "id": "b5fe2056-916c-4909-948c-366751cb008a",
   "metadata": {},
   "outputs": [],
   "source": [
    "#0.3.2 Categorical categorical bivariate analysis\n",
    "# Which of the following size categories has the highest positive recommendations? - Medium and extra large - Extra large and small - Free and small - Free and medium\n"
   ]
  },
  {
   "cell_type": "code",
   "execution_count": 96,
   "id": "ad099c12-295d-42b9-8564-8105213e606f",
   "metadata": {},
   "outputs": [
    {
     "name": "stdout",
     "output_type": "stream",
     "text": [
      "Size category with the highest positive recommendations: Free\n"
     ]
    }
   ],
   "source": [
    " # Size vs Recommendation.\n",
    "table = inp0.pivot_table(index='Size', columns='Recommendation', aggfunc='size', fill_value=0)\n",
    "table['Proportion_Positive_Recommendations'] = table[1] / table.sum(axis=1)\n",
    "highest_positive_recommendations_size = table['Proportion_Positive_Recommendations'].idxmax()\n",
    "print(\"Size category with the highest positive recommendations:\", highest_positive_recommendations_size)"
   ]
  },
  {
   "cell_type": "code",
   "execution_count": 97,
   "id": "6f246735-16f8-41f2-957d-376d24af453e",
   "metadata": {},
   "outputs": [
    {
     "data": {
      "image/png": "[encoded data removed]",
      "text/plain": [
       "<Figure size 640x480 with 1 Axes>"
      ]
     },
     "metadata": {},
     "output_type": "display_data"
    }
   ],
   "source": [
    "inp0.groupby(by=[\"Size\"])[\"Recommendation\"].mean().plot(kind=\"barh\")\n",
    "plt.legend()\n",
    "plt.legend(bbox_to_anchor=(1.31,0.4))\n",
    "plt.show()"
   ]
  },
  {
   "cell_type": "code",
   "execution_count": 98,
   "id": "6a0eb77d-8274-4654-9f1e-d0a229b83904",
   "metadata": {},
   "outputs": [
    {
     "data": {
      "text/html": [
       "<div>\n",
       "<style scoped>\n",
       "    .dataframe tbody tr th:only-of-type {\n",
       "        vertical-align: middle;\n",
       "    }\n",
       "\n",
       "    .dataframe tbody tr th {\n",
       "        vertical-align: top;\n",
       "    }\n",
       "\n",
       "    .dataframe thead th {\n",
       "        text-align: right;\n",
       "    }\n",
       "</style>\n",
       "<table border=\"1\" class=\"dataframe\">\n",
       "  <thead>\n",
       "    <tr style=\"text-align: right;\">\n",
       "      <th>Price</th>\n",
       "      <th>Average</th>\n",
       "      <th>High</th>\n",
       "      <th>Low</th>\n",
       "      <th>Medium</th>\n",
       "      <th>very-high</th>\n",
       "    </tr>\n",
       "    <tr>\n",
       "      <th>Style</th>\n",
       "      <th></th>\n",
       "      <th></th>\n",
       "      <th></th>\n",
       "      <th></th>\n",
       "      <th></th>\n",
       "    </tr>\n",
       "  </thead>\n",
       "  <tbody>\n",
       "    <tr>\n",
       "      <th>Brief</th>\n",
       "      <td>0.333333</td>\n",
       "      <td>NaN</td>\n",
       "      <td>0.000000</td>\n",
       "      <td>NaN</td>\n",
       "      <td>NaN</td>\n",
       "    </tr>\n",
       "    <tr>\n",
       "      <th>Casual</th>\n",
       "      <td>0.345455</td>\n",
       "      <td>0.666667</td>\n",
       "      <td>0.379310</td>\n",
       "      <td>0.666667</td>\n",
       "      <td>0.500000</td>\n",
       "    </tr>\n",
       "    <tr>\n",
       "      <th>Others</th>\n",
       "      <td>0.375000</td>\n",
       "      <td>NaN</td>\n",
       "      <td>NaN</td>\n",
       "      <td>0.500000</td>\n",
       "      <td>NaN</td>\n",
       "    </tr>\n",
       "    <tr>\n",
       "      <th>Sexy</th>\n",
       "      <td>0.333333</td>\n",
       "      <td>0.000000</td>\n",
       "      <td>0.527778</td>\n",
       "      <td>0.000000</td>\n",
       "      <td>0.000000</td>\n",
       "    </tr>\n",
       "    <tr>\n",
       "      <th>bohemian</th>\n",
       "      <td>0.333333</td>\n",
       "      <td>NaN</td>\n",
       "      <td>0.666667</td>\n",
       "      <td>1.000000</td>\n",
       "      <td>1.000000</td>\n",
       "    </tr>\n",
       "    <tr>\n",
       "      <th>cute</th>\n",
       "      <td>0.400000</td>\n",
       "      <td>0.666667</td>\n",
       "      <td>0.500000</td>\n",
       "      <td>1.000000</td>\n",
       "      <td>NaN</td>\n",
       "    </tr>\n",
       "    <tr>\n",
       "      <th>party</th>\n",
       "      <td>0.647059</td>\n",
       "      <td>0.333333</td>\n",
       "      <td>NaN</td>\n",
       "      <td>0.800000</td>\n",
       "      <td>0.823529</td>\n",
       "    </tr>\n",
       "    <tr>\n",
       "      <th>vintage</th>\n",
       "      <td>0.352941</td>\n",
       "      <td>0.000000</td>\n",
       "      <td>0.250000</td>\n",
       "      <td>0.500000</td>\n",
       "      <td>NaN</td>\n",
       "    </tr>\n",
       "    <tr>\n",
       "      <th>work</th>\n",
       "      <td>0.214286</td>\n",
       "      <td>NaN</td>\n",
       "      <td>0.000000</td>\n",
       "      <td>0.000000</td>\n",
       "      <td>NaN</td>\n",
       "    </tr>\n",
       "  </tbody>\n",
       "</table>\n",
       "</div>"
      ],
      "text/plain": [
       "Price      Average      High       Low    Medium  very-high\n",
       "Style                                                      \n",
       "Brief     0.333333       NaN  0.000000       NaN        NaN\n",
       "Casual    0.345455  0.666667  0.379310  0.666667   0.500000\n",
       "Others    0.375000       NaN       NaN  0.500000        NaN\n",
       "Sexy      0.333333  0.000000  0.527778  0.000000   0.000000\n",
       "bohemian  0.333333       NaN  0.666667  1.000000   1.000000\n",
       "cute      0.400000  0.666667  0.500000  1.000000        NaN\n",
       "party     0.647059  0.333333       NaN  0.800000   0.823529\n",
       "vintage   0.352941  0.000000  0.250000  0.500000        NaN\n",
       "work      0.214286       NaN  0.000000  0.000000        NaN"
      ]
     },
     "execution_count": 98,
     "metadata": {},
     "output_type": "execute_result"
    }
   ],
   "source": [
    "#0.3.3 Multivariate analysis\n",
    " # plot the heat map of Style, price and Recommendation\n",
    "pivot_table = inp0.pivot_table(index='Style', columns='Price', values='Recommendation', aggfunc='mean')\n",
    "pivot_table"
   ]
  },
  {
   "cell_type": "code",
   "execution_count": 99,
   "id": "d0399e80-8f84-4405-9099-f1d24f213b65",
   "metadata": {},
   "outputs": [
    {
     "data": {
      "image/png": "[encoded data removed]",
      "text/plain": [
       "<Figure size 1000x600 with 2 Axes>"
      ]
     },
     "metadata": {},
     "output_type": "display_data"
    }
   ],
   "source": [
    "# Plot the heatmap\n",
    "plt.figure(figsize=(10, 6))\n",
    "sns.heatmap(pivot_table, cmap='coolwarm', annot=True, fmt=\".2f\", cbar=True)\n",
    "plt.title('Heatmap of Style, Price, and Recommendation')\n",
    "plt.xlabel('Price')\n",
    "plt.ylabel('Style')\n",
    "plt.show()"
   ]
  },
  {
   "cell_type": "code",
   "execution_count": null,
   "id": "be3c6c3b-b3d4-4211-86a0-695da5e40bae",
   "metadata": {},
   "outputs": [],
   "source": [
    "#Which of the following pair of “Style” and “Price” category has the highest average of positive\n",
    "#recommendations? - Price: medium and style: vintage - Price: medium and style: cute - Price:\n",
    "#very high and style: party - Price: low and style: sexy\n",
    "#pair of 'Style' and 'Price' categories has the highest average of positive recommendations is Medium and cute,Medium and bohemian,veryhigh and bohemian and medium and Novelty"
   ]
  },
  {
   "cell_type": "code",
   "execution_count": 100,
   "id": "653a6e1a-23b1-4727-b015-45c1f2b026f1",
   "metadata": {},
   "outputs": [
    {
     "data": {
      "text/html": [
       "<div>\n",
       "<style scoped>\n",
       "    .dataframe tbody tr th:only-of-type {\n",
       "        vertical-align: middle;\n",
       "    }\n",
       "\n",
       "    .dataframe tbody tr th {\n",
       "        vertical-align: top;\n",
       "    }\n",
       "\n",
       "    .dataframe thead th {\n",
       "        text-align: right;\n",
       "    }\n",
       "</style>\n",
       "<table border=\"1\" class=\"dataframe\">\n",
       "  <thead>\n",
       "    <tr style=\"text-align: right;\">\n",
       "      <th>Material</th>\n",
       "      <th>Missing</th>\n",
       "      <th>Others</th>\n",
       "      <th>chiffonfabric</th>\n",
       "      <th>cotton</th>\n",
       "      <th>microfiber</th>\n",
       "      <th>milksilk</th>\n",
       "      <th>mix</th>\n",
       "      <th>nylon</th>\n",
       "      <th>polyster</th>\n",
       "      <th>rayon</th>\n",
       "      <th>silk</th>\n",
       "    </tr>\n",
       "    <tr>\n",
       "      <th>Season</th>\n",
       "      <th></th>\n",
       "      <th></th>\n",
       "      <th></th>\n",
       "      <th></th>\n",
       "      <th></th>\n",
       "      <th></th>\n",
       "      <th></th>\n",
       "      <th></th>\n",
       "      <th></th>\n",
       "      <th></th>\n",
       "      <th></th>\n",
       "    </tr>\n",
       "  </thead>\n",
       "  <tbody>\n",
       "    <tr>\n",
       "      <th>Autumn</th>\n",
       "      <td>0.428571</td>\n",
       "      <td>0.000000</td>\n",
       "      <td>0.500</td>\n",
       "      <td>0.294118</td>\n",
       "      <td>NaN</td>\n",
       "      <td>1.0</td>\n",
       "      <td>NaN</td>\n",
       "      <td>0.000000</td>\n",
       "      <td>0.266667</td>\n",
       "      <td>0.666667</td>\n",
       "      <td>0.000000</td>\n",
       "    </tr>\n",
       "    <tr>\n",
       "      <th>Spring</th>\n",
       "      <td>0.657143</td>\n",
       "      <td>0.500000</td>\n",
       "      <td>0.600</td>\n",
       "      <td>0.576923</td>\n",
       "      <td>1.0</td>\n",
       "      <td>NaN</td>\n",
       "      <td>0.500000</td>\n",
       "      <td>0.333333</td>\n",
       "      <td>0.571429</td>\n",
       "      <td>1.000000</td>\n",
       "      <td>0.538462</td>\n",
       "    </tr>\n",
       "    <tr>\n",
       "      <th>Summer</th>\n",
       "      <td>0.454545</td>\n",
       "      <td>0.142857</td>\n",
       "      <td>0.125</td>\n",
       "      <td>0.383562</td>\n",
       "      <td>0.0</td>\n",
       "      <td>0.0</td>\n",
       "      <td>0.333333</td>\n",
       "      <td>1.000000</td>\n",
       "      <td>0.071429</td>\n",
       "      <td>0.333333</td>\n",
       "      <td>0.000000</td>\n",
       "    </tr>\n",
       "    <tr>\n",
       "      <th>Winter</th>\n",
       "      <td>0.481481</td>\n",
       "      <td>0.400000</td>\n",
       "      <td>0.000</td>\n",
       "      <td>0.500000</td>\n",
       "      <td>0.0</td>\n",
       "      <td>0.0</td>\n",
       "      <td>0.200000</td>\n",
       "      <td>0.333333</td>\n",
       "      <td>0.346939</td>\n",
       "      <td>NaN</td>\n",
       "      <td>0.714286</td>\n",
       "    </tr>\n",
       "  </tbody>\n",
       "</table>\n",
       "</div>"
      ],
      "text/plain": [
       "Material   Missing    Others  chiffonfabric    cotton  microfiber  milksilk  \\\n",
       "Season                                                                        \n",
       "Autumn    0.428571  0.000000          0.500  0.294118         NaN       1.0   \n",
       "Spring    0.657143  0.500000          0.600  0.576923         1.0       NaN   \n",
       "Summer    0.454545  0.142857          0.125  0.383562         0.0       0.0   \n",
       "Winter    0.481481  0.400000          0.000  0.500000         0.0       0.0   \n",
       "\n",
       "Material       mix     nylon  polyster     rayon      silk  \n",
       "Season                                                      \n",
       "Autumn         NaN  0.000000  0.266667  0.666667  0.000000  \n",
       "Spring    0.500000  0.333333  0.571429  1.000000  0.538462  \n",
       "Summer    0.333333  1.000000  0.071429  0.333333  0.000000  \n",
       "Winter    0.200000  0.333333  0.346939       NaN  0.714286  "
      ]
     },
     "execution_count": 100,
     "metadata": {},
     "output_type": "execute_result"
    }
   ],
   "source": [
    "# plot the heat map of Season, material and Recommendation.\n",
    "pivot_table = inp0.pivot_table(index='Season', columns='Material', values='Recommendation', aggfunc='mean')\n",
    "pivot_table\n"
   ]
  },
  {
   "cell_type": "code",
   "execution_count": 101,
   "id": "f688b022-b285-4fe7-ba65-54cab5269fe8",
   "metadata": {},
   "outputs": [
    {
     "data": {
      "image/png": "[encoded data removed]",
      "text/plain": [
       "<Figure size 1000x600 with 2 Axes>"
      ]
     },
     "metadata": {},
     "output_type": "display_data"
    }
   ],
   "source": [
    "# Plot the heatmap\n",
    "plt.figure(figsize=(10, 6))\n",
    "sns.heatmap(pivot_table, cmap='coolwarm', annot=True, fmt=\".2f\", cbar=True)\n",
    "plt.title('Heatmap of Season, Material, and Recommendation')\n",
    "plt.xlabel('Material')\n",
    "plt.ylabel('Season')\n",
    "plt.show()\n"
   ]
  },
  {
   "cell_type": "code",
   "execution_count": null,
   "id": "03bf6ad2-c27e-49e8-bb83-17d8226a1a86",
   "metadata": {},
   "outputs": [],
   "source": [
    "#Which of the following material type has no recommendation in summer and winter seasons? - Mix\n",
    "#and Milksilk - Nylon and Rayon - Microfiber and Silk - Milksilk and Microfiber\n",
    "# answer: Milksilk and Microfiber"
   ]
  },
  {
   "cell_type": "code",
   "execution_count": 2,
   "id": "1ebc54f9-d731-42a0-9a87-4147e6483f87",
   "metadata": {},
   "outputs": [],
   "source": [
    "####Numerical - Categorical Bivariate Analysis\n",
    "#Which of the following categories of the 'Price' column has the lowest average rating?\n",
    "#High :This category in the Price column has the lowest average rating .\n",
    "\n",
    "####Numerical - Categorical Bivariate Analysis\n",
    "#What is the median value of rating for the 'vintage' category in the Style column?\n",
    "# 4.6 : This is the median value of rating for the 'vintage' category in the 'Style' column . print(inp0.groupby('Style')['Rating'].median())\n",
    "\n",
    "####Numerical - Categorical Bivariate Analysis\n",
    "#Which of the following seasons shows the highest average value of sales for “Recommendation” value equals to 1.\n",
    "# Autumn : print(inp0.groupby('Recommendation')['Autumn'].mean())\n",
    "#          sns.boxplot(data=inp0, x=\"Recommendation\",y=\"Autumn\")\n",
    "#          plt.show()\n",
    "\n",
    "\n",
    "####Categorical - Categorical Bivariate Analysis\n",
    "#Which of the following size categories has the most positive recommendations?\n",
    "#Free and Medium : inp0.groupby(['Size'])['Recommendation'].mean().plot.barh()\n",
    "#                  inp0.groupby('Size')['Recommendation'].sum()\n",
    "\n",
    "\n",
    "###Multivariate Analysis\n",
    "#Which of the following pair of 'Style' and 'Price' categories has the highest average of positive recommendations?\n",
    "\n",
    "# Price: medium, style: cute\n",
    "#Code : \n",
    "#  result = pd.pivot_table(data=inp0, index=\"Style\", columns=\"Price\", values=\"Recommendation\")\n",
    "#  sns.heatmap(res, cmap=\"RdYlGn\", annot=True, center=0.427)\n",
    "#  plt.show()\n",
    "\n",
    "####Multivariate Analysis\n",
    "#Which of the following material types has no recommendation in summer and winter seasons?\n",
    "#Milksilk and Microfiber\n",
    "# Code:\n",
    "#result = pd.pivot_table(data=inp0, index=\"Material\", columns=\"Season\", values=\"Recommendation\")\n",
    "#sns.heatmap(res, cmap=\"RdYlGn\", annot=True, center=0.427)\n",
    "#plt.show()"
   ]
  },
  {
   "cell_type": "code",
   "execution_count": null,
   "id": "ea0690d5-1b25-43d3-8b25-b79e79d9b3fc",
   "metadata": {},
   "outputs": [],
   "source": []
  }
 ],
 "metadata": {
  "kernelspec": {
   "display_name": "anaconda-panel-2023.05-py310",
   "language": "python",
   "name": "conda-env-anaconda-panel-2023.05-py310-py"
  },
  "language_info": {
   "codemirror_mode": {
    "name": "ipython",
    "version": 3
   },
   "file_extension": ".py",
   "mimetype": "text/x-python",
   "name": "python",
   "nbconvert_exporter": "python",
   "pygments_lexer": "ipython3",
   "version": "3.11.5"
  }
 },
 "nbformat": 4,
 "nbformat_minor": 5
}
